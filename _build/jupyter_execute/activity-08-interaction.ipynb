{
 "cells": [
  {
   "cell_type": "markdown",
   "metadata": {},
   "source": [
    "# Activity 8 - Interaction and Animation\n",
    "\n",
    "We saw in our previous notebook how to create visualisations using matplotlib, seaborn, and pandas - however, in most cases these were static. We did get some interaction through the 3D plots and through using the Plotly library. Here, we are going to pursue this further, and look at how we can incorporate interaction and animation into our tools.\n",
    "\n",
    "In particular, interaction techniques are useful for creatng dashboards (visual analytics) interfaces. Animations can be useful for conveying the story, by linking multiple still images together or by showing the analytical process.\n",
    "\n",
    "In this example notebook, we demonstrate how to create interactive widgets that can be used to filter data from a dataframe, either based on range selection or by item selection. We also demonstrate how an animated GIF can be constructed by taking frames of a plot to build an animation. We use a live data set based on COVID-19 to illustrate the concepts in this notebook.\n",
    "\n",
    "Further details are in the following blog post: https://towardsdatascience.com/interactive-controls-for-jupyter-notebooks-f5c94829aee6"
   ]
  },
  {
   "cell_type": "code",
   "execution_count": 1,
   "metadata": {},
   "outputs": [],
   "source": [
    "import pandas as pd\n",
    "from datetime import datetime, timedelta\n",
    "import matplotlib.pyplot as plt"
   ]
  },
  {
   "cell_type": "code",
   "execution_count": 2,
   "metadata": {},
   "outputs": [
    {
     "name": "stdout",
     "output_type": "stream",
     "text": [
      "Requirement already satisfied: ipywidgets in c:\\users\\pa-legg\\anaconda3\\lib\\site-packages (7.6.5)\n",
      "Requirement already satisfied: nbformat>=4.2.0 in c:\\users\\pa-legg\\anaconda3\\lib\\site-packages (from ipywidgets) (5.5.0)\n",
      "Requirement already satisfied: traitlets>=4.3.1 in c:\\users\\pa-legg\\anaconda3\\lib\\site-packages (from ipywidgets) (5.1.1)\n",
      "Requirement already satisfied: jupyterlab-widgets>=1.0.0 in c:\\users\\pa-legg\\anaconda3\\lib\\site-packages (from ipywidgets) (1.0.0)\n",
      "Requirement already satisfied: ipykernel>=4.5.1 in c:\\users\\pa-legg\\anaconda3\\lib\\site-packages (from ipywidgets) (6.15.2)\n",
      "Requirement already satisfied: ipython-genutils~=0.2.0 in c:\\users\\pa-legg\\anaconda3\\lib\\site-packages (from ipywidgets) (0.2.0)\n",
      "Requirement already satisfied: ipython>=4.0.0 in c:\\users\\pa-legg\\anaconda3\\lib\\site-packages (from ipywidgets) (7.31.1)\n",
      "Requirement already satisfied: widgetsnbextension~=3.5.0 in c:\\users\\pa-legg\\anaconda3\\lib\\site-packages (from ipywidgets) (3.5.2)\n",
      "Requirement already satisfied: nest-asyncio in c:\\users\\pa-legg\\anaconda3\\lib\\site-packages (from ipykernel>=4.5.1->ipywidgets) (1.5.5)\n",
      "Requirement already satisfied: packaging in c:\\users\\pa-legg\\anaconda3\\lib\\site-packages (from ipykernel>=4.5.1->ipywidgets) (21.3)\n",
      "Requirement already satisfied: pyzmq>=17 in c:\\users\\pa-legg\\anaconda3\\lib\\site-packages (from ipykernel>=4.5.1->ipywidgets) (23.2.0)\n",
      "Requirement already satisfied: jupyter-client>=6.1.12 in c:\\users\\pa-legg\\anaconda3\\lib\\site-packages (from ipykernel>=4.5.1->ipywidgets) (7.3.4)\n",
      "Requirement already satisfied: tornado>=6.1 in c:\\users\\pa-legg\\anaconda3\\lib\\site-packages (from ipykernel>=4.5.1->ipywidgets) (6.1)\n",
      "Requirement already satisfied: psutil in c:\\users\\pa-legg\\anaconda3\\lib\\site-packages (from ipykernel>=4.5.1->ipywidgets) (5.9.0)\n",
      "Requirement already satisfied: matplotlib-inline>=0.1 in c:\\users\\pa-legg\\anaconda3\\lib\\site-packages (from ipykernel>=4.5.1->ipywidgets) (0.1.6)\n",
      "Requirement already satisfied: debugpy>=1.0 in c:\\users\\pa-legg\\anaconda3\\lib\\site-packages (from ipykernel>=4.5.1->ipywidgets) (1.5.1)\n",
      "Requirement already satisfied: pickleshare in c:\\users\\pa-legg\\anaconda3\\lib\\site-packages (from ipython>=4.0.0->ipywidgets) (0.7.5)\n",
      "Requirement already satisfied: pygments in c:\\users\\pa-legg\\anaconda3\\lib\\site-packages (from ipython>=4.0.0->ipywidgets) (2.15.1)\n",
      "Requirement already satisfied: backcall in c:\\users\\pa-legg\\anaconda3\\lib\\site-packages (from ipython>=4.0.0->ipywidgets) (0.2.0)\n",
      "Requirement already satisfied: jedi>=0.16 in c:\\users\\pa-legg\\anaconda3\\lib\\site-packages (from ipython>=4.0.0->ipywidgets) (0.18.1)\n",
      "Requirement already satisfied: colorama in c:\\users\\pa-legg\\anaconda3\\lib\\site-packages (from ipython>=4.0.0->ipywidgets) (0.4.5)\n",
      "Requirement already satisfied: decorator in c:\\users\\pa-legg\\anaconda3\\lib\\site-packages (from ipython>=4.0.0->ipywidgets) (4.4.2)\n",
      "Requirement already satisfied: prompt-toolkit!=3.0.0,!=3.0.1,<3.1.0,>=2.0.0 in c:\\users\\pa-legg\\anaconda3\\lib\\site-packages (from ipython>=4.0.0->ipywidgets) (3.0.20)\n",
      "Requirement already satisfied: setuptools>=18.5 in c:\\users\\pa-legg\\anaconda3\\lib\\site-packages (from ipython>=4.0.0->ipywidgets) (63.4.1)\n",
      "Requirement already satisfied: jupyter_core in c:\\users\\pa-legg\\anaconda3\\lib\\site-packages (from nbformat>=4.2.0->ipywidgets) (4.11.1)\n",
      "Requirement already satisfied: fastjsonschema in c:\\users\\pa-legg\\anaconda3\\lib\\site-packages (from nbformat>=4.2.0->ipywidgets) (2.16.2)\n",
      "Requirement already satisfied: jsonschema>=2.6 in c:\\users\\pa-legg\\anaconda3\\lib\\site-packages (from nbformat>=4.2.0->ipywidgets) (4.16.0)\n",
      "Requirement already satisfied: notebook>=4.4.1 in c:\\users\\pa-legg\\anaconda3\\lib\\site-packages (from widgetsnbextension~=3.5.0->ipywidgets) (6.4.12)\n",
      "Requirement already satisfied: parso<0.9.0,>=0.8.0 in c:\\users\\pa-legg\\anaconda3\\lib\\site-packages (from jedi>=0.16->ipython>=4.0.0->ipywidgets) (0.8.3)\n",
      "Requirement already satisfied: pyrsistent!=0.17.0,!=0.17.1,!=0.17.2,>=0.14.0 in c:\\users\\pa-legg\\anaconda3\\lib\\site-packages (from jsonschema>=2.6->nbformat>=4.2.0->ipywidgets) (0.18.0)\n",
      "Requirement already satisfied: attrs>=17.4.0 in c:\\users\\pa-legg\\anaconda3\\lib\\site-packages (from jsonschema>=2.6->nbformat>=4.2.0->ipywidgets) (21.4.0)\n",
      "Requirement already satisfied: python-dateutil>=2.8.2 in c:\\users\\pa-legg\\anaconda3\\lib\\site-packages (from jupyter-client>=6.1.12->ipykernel>=4.5.1->ipywidgets) (2.8.2)\n",
      "Requirement already satisfied: entrypoints in c:\\users\\pa-legg\\anaconda3\\lib\\site-packages (from jupyter-client>=6.1.12->ipykernel>=4.5.1->ipywidgets) (0.4)\n",
      "Requirement already satisfied: pywin32>=1.0 in c:\\users\\pa-legg\\anaconda3\\lib\\site-packages (from jupyter_core->nbformat>=4.2.0->ipywidgets) (302)\n",
      "Requirement already satisfied: jinja2 in c:\\users\\pa-legg\\anaconda3\\lib\\site-packages (from notebook>=4.4.1->widgetsnbextension~=3.5.0->ipywidgets) (3.1.2)\n",
      "Requirement already satisfied: argon2-cffi in c:\\users\\pa-legg\\anaconda3\\lib\\site-packages (from notebook>=4.4.1->widgetsnbextension~=3.5.0->ipywidgets) (21.3.0)\n",
      "Requirement already satisfied: terminado>=0.8.3 in c:\\users\\pa-legg\\anaconda3\\lib\\site-packages (from notebook>=4.4.1->widgetsnbextension~=3.5.0->ipywidgets) (0.13.1)\n",
      "Requirement already satisfied: nbconvert>=5 in c:\\users\\pa-legg\\anaconda3\\lib\\site-packages (from notebook>=4.4.1->widgetsnbextension~=3.5.0->ipywidgets) (6.4.4)\n",
      "Requirement already satisfied: Send2Trash>=1.8.0 in c:\\users\\pa-legg\\anaconda3\\lib\\site-packages (from notebook>=4.4.1->widgetsnbextension~=3.5.0->ipywidgets) (1.8.0)\n",
      "Requirement already satisfied: prometheus-client in c:\\users\\pa-legg\\anaconda3\\lib\\site-packages (from notebook>=4.4.1->widgetsnbextension~=3.5.0->ipywidgets) (0.14.1)\n",
      "Requirement already satisfied: wcwidth in c:\\users\\pa-legg\\anaconda3\\lib\\site-packages (from prompt-toolkit!=3.0.0,!=3.0.1,<3.1.0,>=2.0.0->ipython>=4.0.0->ipywidgets) (0.2.5)\n",
      "Requirement already satisfied: pyparsing!=3.0.5,>=2.0.2 in c:\\users\\pa-legg\\anaconda3\\lib\\site-packages (from packaging->ipykernel>=4.5.1->ipywidgets) (3.0.9)\n",
      "Requirement already satisfied: jupyterlab-pygments in c:\\users\\pa-legg\\anaconda3\\lib\\site-packages (from nbconvert>=5->notebook>=4.4.1->widgetsnbextension~=3.5.0->ipywidgets) (0.1.2)\n",
      "Requirement already satisfied: beautifulsoup4 in c:\\users\\pa-legg\\anaconda3\\lib\\site-packages (from nbconvert>=5->notebook>=4.4.1->widgetsnbextension~=3.5.0->ipywidgets) (4.11.1)\n",
      "Requirement already satisfied: bleach in c:\\users\\pa-legg\\anaconda3\\lib\\site-packages (from nbconvert>=5->notebook>=4.4.1->widgetsnbextension~=3.5.0->ipywidgets) (4.1.0)\n",
      "Requirement already satisfied: testpath in c:\\users\\pa-legg\\anaconda3\\lib\\site-packages (from nbconvert>=5->notebook>=4.4.1->widgetsnbextension~=3.5.0->ipywidgets) (0.6.0)\n",
      "Requirement already satisfied: defusedxml in c:\\users\\pa-legg\\anaconda3\\lib\\site-packages (from nbconvert>=5->notebook>=4.4.1->widgetsnbextension~=3.5.0->ipywidgets) (0.7.1)\n",
      "Requirement already satisfied: mistune<2,>=0.8.1 in c:\\users\\pa-legg\\anaconda3\\lib\\site-packages (from nbconvert>=5->notebook>=4.4.1->widgetsnbextension~=3.5.0->ipywidgets) (0.8.4)\n",
      "Requirement already satisfied: pandocfilters>=1.4.1 in c:\\users\\pa-legg\\anaconda3\\lib\\site-packages (from nbconvert>=5->notebook>=4.4.1->widgetsnbextension~=3.5.0->ipywidgets) (1.5.0)\n",
      "Requirement already satisfied: nbclient<0.6.0,>=0.5.0 in c:\\users\\pa-legg\\anaconda3\\lib\\site-packages (from nbconvert>=5->notebook>=4.4.1->widgetsnbextension~=3.5.0->ipywidgets) (0.5.13)\n",
      "Requirement already satisfied: MarkupSafe>=2.0 in c:\\users\\pa-legg\\anaconda3\\lib\\site-packages (from jinja2->notebook>=4.4.1->widgetsnbextension~=3.5.0->ipywidgets) (2.0.1)\n",
      "Requirement already satisfied: six>=1.5 in c:\\users\\pa-legg\\anaconda3\\lib\\site-packages (from python-dateutil>=2.8.2->jupyter-client>=6.1.12->ipykernel>=4.5.1->ipywidgets) (1.16.0)\n",
      "Requirement already satisfied: pywinpty>=1.1.0 in c:\\users\\pa-legg\\anaconda3\\lib\\site-packages (from terminado>=0.8.3->notebook>=4.4.1->widgetsnbextension~=3.5.0->ipywidgets) (2.0.2)\n",
      "Requirement already satisfied: argon2-cffi-bindings in c:\\users\\pa-legg\\anaconda3\\lib\\site-packages (from argon2-cffi->notebook>=4.4.1->widgetsnbextension~=3.5.0->ipywidgets) (21.2.0)\n",
      "Requirement already satisfied: cffi>=1.0.1 in c:\\users\\pa-legg\\anaconda3\\lib\\site-packages (from argon2-cffi-bindings->argon2-cffi->notebook>=4.4.1->widgetsnbextension~=3.5.0->ipywidgets) (1.15.1)\n",
      "Requirement already satisfied: soupsieve>1.2 in c:\\users\\pa-legg\\anaconda3\\lib\\site-packages (from beautifulsoup4->nbconvert>=5->notebook>=4.4.1->widgetsnbextension~=3.5.0->ipywidgets) (2.3.1)\n",
      "Requirement already satisfied: webencodings in c:\\users\\pa-legg\\anaconda3\\lib\\site-packages (from bleach->nbconvert>=5->notebook>=4.4.1->widgetsnbextension~=3.5.0->ipywidgets) (0.5.1)\n",
      "Requirement already satisfied: pycparser in c:\\users\\pa-legg\\anaconda3\\lib\\site-packages (from cffi>=1.0.1->argon2-cffi-bindings->argon2-cffi->notebook>=4.4.1->widgetsnbextension~=3.5.0->ipywidgets) (2.21)\n"
     ]
    }
   ],
   "source": [
    "!pip install ipywidgets"
   ]
  },
  {
   "cell_type": "code",
   "execution_count": 3,
   "metadata": {},
   "outputs": [],
   "source": [
    "import ipywidgets as widgets\n",
    "from ipywidgets import interact, interact_manual"
   ]
  },
  {
   "cell_type": "code",
   "execution_count": 4,
   "metadata": {},
   "outputs": [
    {
     "data": {
      "text/html": [
       "<div>\n",
       "<style scoped>\n",
       "    .dataframe tbody tr th:only-of-type {\n",
       "        vertical-align: middle;\n",
       "    }\n",
       "\n",
       "    .dataframe tbody tr th {\n",
       "        vertical-align: top;\n",
       "    }\n",
       "\n",
       "    .dataframe thead th {\n",
       "        text-align: right;\n",
       "    }\n",
       "</style>\n",
       "<table border=\"1\" class=\"dataframe\">\n",
       "  <thead>\n",
       "    <tr style=\"text-align: right;\">\n",
       "      <th></th>\n",
       "      <th>Area name</th>\n",
       "      <th>Area code</th>\n",
       "      <th>Area type</th>\n",
       "      <th>Specimen date</th>\n",
       "      <th>Daily lab-confirmed cases</th>\n",
       "      <th>Cumulative lab-confirmed cases</th>\n",
       "      <th>Cumulative lab-confirmed cases rate</th>\n",
       "    </tr>\n",
       "  </thead>\n",
       "  <tbody>\n",
       "    <tr>\n",
       "      <th>0</th>\n",
       "      <td>Stoke-on-Trent</td>\n",
       "      <td>E06000021</td>\n",
       "      <td>ltla</td>\n",
       "      <td>2021-04-26</td>\n",
       "      <td>5</td>\n",
       "      <td>20083</td>\n",
       "      <td>7833.4</td>\n",
       "    </tr>\n",
       "    <tr>\n",
       "      <th>1</th>\n",
       "      <td>Staffordshire Moorlands</td>\n",
       "      <td>E07000198</td>\n",
       "      <td>ltla</td>\n",
       "      <td>2021-04-26</td>\n",
       "      <td>5</td>\n",
       "      <td>5351</td>\n",
       "      <td>5436.1</td>\n",
       "    </tr>\n",
       "    <tr>\n",
       "      <th>2</th>\n",
       "      <td>Hackney and City of London</td>\n",
       "      <td>E09000012</td>\n",
       "      <td>ltla</td>\n",
       "      <td>2021-04-26</td>\n",
       "      <td>5</td>\n",
       "      <td>21672</td>\n",
       "      <td>7451.5</td>\n",
       "    </tr>\n",
       "    <tr>\n",
       "      <th>3</th>\n",
       "      <td>Staffordshire Moorlands</td>\n",
       "      <td>E07000198</td>\n",
       "      <td>ltla</td>\n",
       "      <td>2021-04-25</td>\n",
       "      <td>6</td>\n",
       "      <td>5346</td>\n",
       "      <td>5431.0</td>\n",
       "    </tr>\n",
       "    <tr>\n",
       "      <th>4</th>\n",
       "      <td>Newark and Sherwood</td>\n",
       "      <td>E07000175</td>\n",
       "      <td>ltla</td>\n",
       "      <td>2021-04-26</td>\n",
       "      <td>4</td>\n",
       "      <td>7292</td>\n",
       "      <td>5956.5</td>\n",
       "    </tr>\n",
       "    <tr>\n",
       "      <th>...</th>\n",
       "      <td>...</td>\n",
       "      <td>...</td>\n",
       "      <td>...</td>\n",
       "      <td>...</td>\n",
       "      <td>...</td>\n",
       "      <td>...</td>\n",
       "      <td>...</td>\n",
       "    </tr>\n",
       "    <tr>\n",
       "      <th>45292</th>\n",
       "      <td>Norfolk</td>\n",
       "      <td>E10000020</td>\n",
       "      <td>utla</td>\n",
       "      <td>2021-01-13</td>\n",
       "      <td>621</td>\n",
       "      <td>28630</td>\n",
       "      <td>3153.9</td>\n",
       "    </tr>\n",
       "    <tr>\n",
       "      <th>45293</th>\n",
       "      <td>Norfolk</td>\n",
       "      <td>E10000020</td>\n",
       "      <td>utla</td>\n",
       "      <td>2021-01-12</td>\n",
       "      <td>671</td>\n",
       "      <td>28009</td>\n",
       "      <td>3085.5</td>\n",
       "    </tr>\n",
       "    <tr>\n",
       "      <th>45294</th>\n",
       "      <td>Norfolk</td>\n",
       "      <td>E10000020</td>\n",
       "      <td>utla</td>\n",
       "      <td>2021-01-11</td>\n",
       "      <td>795</td>\n",
       "      <td>27338</td>\n",
       "      <td>3011.6</td>\n",
       "    </tr>\n",
       "    <tr>\n",
       "      <th>45295</th>\n",
       "      <td>Norfolk</td>\n",
       "      <td>E10000020</td>\n",
       "      <td>utla</td>\n",
       "      <td>2021-01-10</td>\n",
       "      <td>504</td>\n",
       "      <td>26543</td>\n",
       "      <td>2924.0</td>\n",
       "    </tr>\n",
       "    <tr>\n",
       "      <th>45296</th>\n",
       "      <td>Norfolk</td>\n",
       "      <td>E10000020</td>\n",
       "      <td>utla</td>\n",
       "      <td>2021-01-09</td>\n",
       "      <td>392</td>\n",
       "      <td>26039</td>\n",
       "      <td>2868.5</td>\n",
       "    </tr>\n",
       "  </tbody>\n",
       "</table>\n",
       "<p>45297 rows × 7 columns</p>\n",
       "</div>"
      ],
      "text/plain": [
       "                        Area name  Area code Area type Specimen date  \\\n",
       "0                  Stoke-on-Trent  E06000021      ltla    2021-04-26   \n",
       "1         Staffordshire Moorlands  E07000198      ltla    2021-04-26   \n",
       "2      Hackney and City of London  E09000012      ltla    2021-04-26   \n",
       "3         Staffordshire Moorlands  E07000198      ltla    2021-04-25   \n",
       "4             Newark and Sherwood  E07000175      ltla    2021-04-26   \n",
       "...                           ...        ...       ...           ...   \n",
       "45292                     Norfolk  E10000020      utla    2021-01-13   \n",
       "45293                     Norfolk  E10000020      utla    2021-01-12   \n",
       "45294                     Norfolk  E10000020      utla    2021-01-11   \n",
       "45295                     Norfolk  E10000020      utla    2021-01-10   \n",
       "45296                     Norfolk  E10000020      utla    2021-01-09   \n",
       "\n",
       "       Daily lab-confirmed cases  Cumulative lab-confirmed cases  \\\n",
       "0                              5                           20083   \n",
       "1                              5                            5351   \n",
       "2                              5                           21672   \n",
       "3                              6                            5346   \n",
       "4                              4                            7292   \n",
       "...                          ...                             ...   \n",
       "45292                        621                           28630   \n",
       "45293                        671                           28009   \n",
       "45294                        795                           27338   \n",
       "45295                        504                           26543   \n",
       "45296                        392                           26039   \n",
       "\n",
       "       Cumulative lab-confirmed cases rate  \n",
       "0                                   7833.4  \n",
       "1                                   5436.1  \n",
       "2                                   7451.5  \n",
       "3                                   5431.0  \n",
       "4                                   5956.5  \n",
       "...                                    ...  \n",
       "45292                               3153.9  \n",
       "45293                               3085.5  \n",
       "45294                               3011.6  \n",
       "45295                               2924.0  \n",
       "45296                               2868.5  \n",
       "\n",
       "[45297 rows x 7 columns]"
      ]
     },
     "execution_count": 4,
     "metadata": {},
     "output_type": "execute_result"
    }
   ],
   "source": [
    "df = pd.read_csv('https://coronavirus.data.gov.uk/downloads/csv/coronavirus-cases_latest.csv')\n",
    "df"
   ]
  },
  {
   "cell_type": "code",
   "execution_count": 5,
   "metadata": {},
   "outputs": [
    {
     "data": {
      "application/vnd.jupyter.widget-view+json": {
       "model_id": "2714a84eff1a42b29d5a7e779077b123",
       "version_major": 2,
       "version_minor": 0
      },
      "text/plain": [
       "interactive(children=(Text(value='Daily lab-confirmed cases', description='column'), IntSlider(value=20, descr…"
      ]
     },
     "metadata": {},
     "output_type": "display_data"
    }
   ],
   "source": [
    "@interact\n",
    "def show_articles_more_than(column='Daily lab-confirmed cases', x=20):\n",
    "    return df.loc[df[column] > x]"
   ]
  },
  {
   "cell_type": "code",
   "execution_count": 6,
   "metadata": {},
   "outputs": [
    {
     "data": {
      "application/vnd.jupyter.widget-view+json": {
       "model_id": "64a43b06bbe3481584894cce98a30b20",
       "version_major": 2,
       "version_minor": 0
      },
      "text/plain": [
       "interactive(children=(Text(value='Daily lab-confirmed cases', description='column'), IntSlider(value=10, descr…"
      ]
     },
     "metadata": {},
     "output_type": "display_data"
    }
   ],
   "source": [
    "# What if we want a custom min-max range for our slider?\n",
    "# https://ipywidgets.readthedocs.io/en/latest/examples/Using%20Interact.html\n",
    "\n",
    "@interact\n",
    "def show_articles_more_than(column='Daily lab-confirmed cases', x=widgets.IntSlider(min=0, max=1000, step=1, value=10)):\n",
    "    return df.loc[df[column] > x]"
   ]
  },
  {
   "cell_type": "code",
   "execution_count": 7,
   "metadata": {},
   "outputs": [
    {
     "data": {
      "application/vnd.jupyter.widget-view+json": {
       "model_id": "aed1187efc9c49faa73b7b09264b5745",
       "version_major": 2,
       "version_minor": 0
      },
      "text/plain": [
       "interactive(children=(Text(value='Area name', description='column'), Dropdown(description='x', options=('Arun'…"
      ]
     },
     "metadata": {},
     "output_type": "display_data"
    }
   ],
   "source": [
    "@interact\n",
    "def show_for_place(column='Area name', x=sorted(df['Area name'].unique())):\n",
    "    return df.loc[df[column] == x]"
   ]
  },
  {
   "cell_type": "code",
   "execution_count": 8,
   "metadata": {},
   "outputs": [
    {
     "name": "stdout",
     "output_type": "stream",
     "text": [
      "Requirement already satisfied: moviepy in c:\\users\\pa-legg\\anaconda3\\lib\\site-packages (1.0.3)\n",
      "Requirement already satisfied: proglog<=1.0.0 in c:\\users\\pa-legg\\anaconda3\\lib\\site-packages (from moviepy) (0.1.10)\n",
      "Requirement already satisfied: numpy>=1.17.3 in c:\\users\\pa-legg\\anaconda3\\lib\\site-packages (from moviepy) (1.24.4)\n",
      "Requirement already satisfied: requests<3.0,>=2.8.1 in c:\\users\\pa-legg\\anaconda3\\lib\\site-packages (from moviepy) (2.28.1)\n",
      "Requirement already satisfied: imageio-ffmpeg>=0.2.0 in c:\\users\\pa-legg\\anaconda3\\lib\\site-packages (from moviepy) (0.4.9)\n",
      "Requirement already satisfied: imageio<3.0,>=2.5 in c:\\users\\pa-legg\\anaconda3\\lib\\site-packages (from moviepy) (2.19.3)\n",
      "Requirement already satisfied: tqdm<5.0,>=4.11.2 in c:\\users\\pa-legg\\anaconda3\\lib\\site-packages (from moviepy) (4.64.1)\n",
      "Requirement already satisfied: decorator<5.0,>=4.0.2 in c:\\users\\pa-legg\\anaconda3\\lib\\site-packages (from moviepy) (4.4.2)\n",
      "Requirement already satisfied: pillow>=8.3.2 in c:\\users\\pa-legg\\anaconda3\\lib\\site-packages (from imageio<3.0,>=2.5->moviepy) (9.2.0)\n",
      "Requirement already satisfied: setuptools in c:\\users\\pa-legg\\anaconda3\\lib\\site-packages (from imageio-ffmpeg>=0.2.0->moviepy) (63.4.1)\n",
      "Requirement already satisfied: idna<4,>=2.5 in c:\\users\\pa-legg\\anaconda3\\lib\\site-packages (from requests<3.0,>=2.8.1->moviepy) (3.3)\n",
      "Requirement already satisfied: charset-normalizer<3,>=2 in c:\\users\\pa-legg\\anaconda3\\lib\\site-packages (from requests<3.0,>=2.8.1->moviepy) (2.0.4)\n",
      "Requirement already satisfied: urllib3<1.27,>=1.21.1 in c:\\users\\pa-legg\\anaconda3\\lib\\site-packages (from requests<3.0,>=2.8.1->moviepy) (1.26.11)\n",
      "Requirement already satisfied: certifi>=2017.4.17 in c:\\users\\pa-legg\\anaconda3\\lib\\site-packages (from requests<3.0,>=2.8.1->moviepy) (2022.9.14)\n",
      "Requirement already satisfied: colorama in c:\\users\\pa-legg\\anaconda3\\lib\\site-packages (from tqdm<5.0,>=4.11.2->moviepy) (0.4.5)\n"
     ]
    }
   ],
   "source": [
    "!pip install moviepy\n",
    "\n",
    "import glob\n",
    "import moviepy.editor as mpy"
   ]
  },
  {
   "cell_type": "code",
   "execution_count": 9,
   "metadata": {},
   "outputs": [
    {
     "data": {
      "text/plain": [
       "[<matplotlib.lines.Line2D at 0x2461a60ffa0>]"
      ]
     },
     "execution_count": 9,
     "metadata": {},
     "output_type": "execute_result"
    },
    {
     "data": {
      "image/png": "[encoded data removed]",
      "text/plain": [
       "<Figure size 2000x1000 with 1 Axes>"
      ]
     },
     "metadata": {},
     "output_type": "display_data"
    }
   ],
   "source": [
    "plt.figure(figsize=(20,10))\n",
    "data = df[df['Area type'] == 'utla']\n",
    "plt.xticks(rotation=90)\n",
    "plt.plot(data.groupby('Specimen date').sum()['Daily lab-confirmed cases'])"
   ]
  },
  {
   "cell_type": "code",
   "execution_count": 10,
   "metadata": {},
   "outputs": [
    {
     "data": {
      "text/plain": [
       "Specimen date\n",
       "2021-01-09    392\n",
       "2021-01-10    504\n",
       "2021-01-11    795\n",
       "2021-01-12    671\n",
       "2021-01-13    621\n",
       "             ... \n",
       "2021-04-17     13\n",
       "2021-04-18     21\n",
       "2021-04-20     25\n",
       "2021-04-21     30\n",
       "2021-04-26     26\n",
       "Name: Daily lab-confirmed cases, Length: 69, dtype: int64"
      ]
     },
     "execution_count": 10,
     "metadata": {},
     "output_type": "execute_result"
    }
   ],
   "source": [
    "data = df[df['Area type'] == 'utla']\n",
    "output = data.groupby('Specimen date').sum()['Daily lab-confirmed cases']\n",
    "output"
   ]
  },
  {
   "cell_type": "code",
   "execution_count": 11,
   "metadata": {},
   "outputs": [],
   "source": [
    "for i in range(len(output)):\n",
    "    oo = output[:i]\n",
    "    plt.xticks(rotation=90)\n",
    "    plt.plot(oo)\n",
    "    plt.savefig(f\"./pngs/{i}.png\")\n",
    "    plt.close()"
   ]
  },
  {
   "cell_type": "code",
   "execution_count": 12,
   "metadata": {},
   "outputs": [
    {
     "name": "stdout",
     "output_type": "stream",
     "text": [
      "MoviePy - Building file COVID.gif with imageio.\n"
     ]
    },
    {
     "name": "stderr",
     "output_type": "stream",
     "text": [
      "\r",
      "t:   0%|                                                                             | 0/69 [00:00<?, ?it/s, now=None]"
     ]
    },
    {
     "name": "stderr",
     "output_type": "stream",
     "text": [
      "\r",
      "t:   9%|██████                                                               | 6/69 [00:00<00:01, 56.82it/s, now=None]"
     ]
    },
    {
     "name": "stderr",
     "output_type": "stream",
     "text": [
      "\r",
      "t:  17%|███████████▊                                                        | 12/69 [00:00<00:01, 47.93it/s, now=None]"
     ]
    },
    {
     "name": "stderr",
     "output_type": "stream",
     "text": [
      "\r",
      "t:  25%|████████████████▊                                                   | 17/69 [00:00<00:01, 46.24it/s, now=None]"
     ]
    },
    {
     "name": "stderr",
     "output_type": "stream",
     "text": [
      "\r",
      "t:  32%|█████████████████████▋                                              | 22/69 [00:00<00:01, 45.54it/s, now=None]"
     ]
    },
    {
     "name": "stderr",
     "output_type": "stream",
     "text": [
      "\r",
      "t:  39%|██████████████████████████▌                                         | 27/69 [00:00<00:00, 44.94it/s, now=None]"
     ]
    },
    {
     "name": "stderr",
     "output_type": "stream",
     "text": [
      "\r",
      "t:  46%|███████████████████████████████▌                                    | 32/69 [00:00<00:00, 44.69it/s, now=None]"
     ]
    },
    {
     "name": "stderr",
     "output_type": "stream",
     "text": [
      "\r",
      "t:  54%|████████████████████████████████████▍                               | 37/69 [00:00<00:00, 44.69it/s, now=None]"
     ]
    },
    {
     "name": "stderr",
     "output_type": "stream",
     "text": [
      "\r",
      "t:  61%|█████████████████████████████████████████▍                          | 42/69 [00:00<00:00, 43.93it/s, now=None]"
     ]
    },
    {
     "name": "stderr",
     "output_type": "stream",
     "text": [
      "\r",
      "t:  68%|██████████████████████████████████████████████▎                     | 47/69 [00:01<00:00, 42.16it/s, now=None]"
     ]
    },
    {
     "name": "stderr",
     "output_type": "stream",
     "text": [
      "\r",
      "t:  75%|███████████████████████████████████████████████████▏                | 52/69 [00:01<00:00, 41.88it/s, now=None]"
     ]
    },
    {
     "name": "stderr",
     "output_type": "stream",
     "text": [
      "\r",
      "t:  83%|████████████████████████████████████████████████████████▏           | 57/69 [00:01<00:00, 41.92it/s, now=None]"
     ]
    },
    {
     "name": "stderr",
     "output_type": "stream",
     "text": [
      "\r",
      "t:  90%|█████████████████████████████████████████████████████████████       | 62/69 [00:01<00:00, 41.68it/s, now=None]"
     ]
    },
    {
     "name": "stderr",
     "output_type": "stream",
     "text": [
      "\r",
      "t:  97%|██████████████████████████████████████████████████████████████████  | 67/69 [00:01<00:00, 41.55it/s, now=None]"
     ]
    },
    {
     "name": "stderr",
     "output_type": "stream",
     "text": [
      "\r",
      "                                                                                                                      "
     ]
    },
    {
     "name": "stderr",
     "output_type": "stream",
     "text": [
      "\r"
     ]
    }
   ],
   "source": [
    "import os\n",
    "\n",
    "gif_name = 'COVID.gif'\n",
    "fps = 6\n",
    "file_list = sorted(glob.glob('./pngs/*.png'), key=os.path.getmtime)\n",
    "clip = mpy.ImageSequenceClip(file_list, fps=fps)\n",
    "clip.write_gif('{}'.format(gif_name), fps=fps)"
   ]
  },
  {
   "cell_type": "code",
   "execution_count": null,
   "metadata": {},
   "outputs": [],
   "source": []
  }
 ],
 "metadata": {
  "kernelspec": {
   "display_name": "Python 3 (ipykernel)",
   "language": "python",
   "name": "python3"
  },
  "language_info": {
   "codemirror_mode": {
    "name": "ipython",
    "version": 3
   },
   "file_extension": ".py",
   "mimetype": "text/x-python",
   "name": "python",
   "nbconvert_exporter": "python",
   "pygments_lexer": "ipython3",
   "version": "3.9.13"
  },
  "widgets": {
   "application/vnd.jupyter.widget-state+json": {
    "state": {
     "07f8222ba2724ef582c9b35906b6790a": {
      "model_module": "@jupyter-widgets/controls",
      "model_module_version": "1.5.0",
      "model_name": "TextModel",
      "state": {
       "_dom_classes": [],
       "_model_module": "@jupyter-widgets/controls",
       "_model_module_version": "1.5.0",
       "_model_name": "TextModel",
       "_view_count": null,
       "_view_module": "@jupyter-widgets/controls",
       "_view_module_version": "1.5.0",
       "_view_name": "TextView",
       "continuous_update": true,
       "description": "column",
       "description_tooltip": null,
       "disabled": false,
       "layout": "IPY_MODEL_846dffdcdeba4c9b810b25806e64330e",
       "placeholder": "​",
       "style": "IPY_MODEL_109424d64be04e25891408351a767d76",
       "value": "Daily lab-confirmed cases"
      }
     },
     "109424d64be04e25891408351a767d76": {
      "model_module": "@jupyter-widgets/controls",
      "model_module_version": "1.5.0",
      "model_name": "DescriptionStyleModel",
      "state": {
       "_model_module": "@jupyter-widgets/controls",
       "_model_module_version": "1.5.0",
       "_model_name": "DescriptionStyleModel",
       "_view_count": null,
       "_view_module": "@jupyter-widgets/base",
       "_view_module_version": "1.2.0",
       "_view_name": "StyleView",
       "description_width": ""
      }
     },
     "1845c367be184104ae9dba6322e7e4bb": {
      "model_module": "@jupyter-widgets/base",
      "model_module_version": "1.2.0",
      "model_name": "LayoutModel",
      "state": {
       "_model_module": "@jupyter-widgets/base",
       "_model_module_version": "1.2.0",
       "_model_name": "LayoutModel",
       "_view_count": null,
       "_view_module": "@jupyter-widgets/base",
       "_view_module_version": "1.2.0",
       "_view_name": "LayoutView",
       "align_content": null,
       "align_items": null,
       "align_self": null,
       "border": null,
       "bottom": null,
       "display": null,
       "flex": null,
       "flex_flow": null,
       "grid_area": null,
       "grid_auto_columns": null,
       "grid_auto_flow": null,
       "grid_auto_rows": null,
       "grid_column": null,
       "grid_gap": null,
       "grid_row": null,
       "grid_template_areas": null,
       "grid_template_columns": null,
       "grid_template_rows": null,
       "height": null,
       "justify_content": null,
       "justify_items": null,
       "left": null,
       "margin": null,
       "max_height": null,
       "max_width": null,
       "min_height": null,
       "min_width": null,
       "object_fit": null,
       "object_position": null,
       "order": null,
       "overflow": null,
       "overflow_x": null,
       "overflow_y": null,
       "padding": null,
       "right": null,
       "top": null,
       "visibility": null,
       "width": null
      }
     },
     "18779164baad486c9d63a8bce1daa310": {
      "model_module": "@jupyter-widgets/controls",
      "model_module_version": "1.5.0",
      "model_name": "DropdownModel",
      "state": {
       "_dom_classes": [],
       "_model_module": "@jupyter-widgets/controls",
       "_model_module_version": "1.5.0",
       "_model_name": "DropdownModel",
       "_options_labels": [
        "Arun",
        "Ashford",
        "Babergh",
        "Barnsley",
        "Bassetlaw",
        "Bath and North East Somerset",
        "Bexley",
        "Blaby",
        "Blackpool",
        "Bolsover",
        "Bradford",
        "Brentwood",
        "Broadland",
        "Bromley",
        "Broxbourne",
        "Bury",
        "Calderdale",
        "Canterbury",
        "Castle Point",
        "Charnwood",
        "Chorley",
        "County Durham",
        "Craven",
        "Crawley",
        "Dacorum",
        "Doncaster",
        "Dorset",
        "Dudley",
        "East Hertfordshire",
        "East Northamptonshire",
        "East Suffolk",
        "Eastbourne",
        "Eden",
        "Enfield",
        "Epping Forest",
        "Exeter",
        "Fareham",
        "Fenland",
        "Folkestone and Hythe",
        "Forest of Dean",
        "Gosport",
        "Hackney and City of London",
        "Halton",
        "Hammersmith and Fulham",
        "Harrogate",
        "Hart",
        "Havant",
        "High Peak",
        "Hounslow",
        "Huntingdonshire",
        "Hyndburn",
        "Ipswich",
        "Isle of Wight",
        "Islington",
        "Kettering",
        "Kingston upon Thames",
        "Knowsley",
        "Lambeth",
        "Lewes",
        "Lichfield",
        "Luton",
        "Malvern Hills",
        "Manchester",
        "Mansfield",
        "Medway",
        "Melton",
        "Mid Suffolk",
        "Newark and Sherwood",
        "Newcastle upon Tyne",
        "Norfolk",
        "North East Derbyshire",
        "North East Lincolnshire",
        "North Hertfordshire",
        "North Lincolnshire",
        "North Somerset",
        "North Warwickshire",
        "Northampton",
        "Northumberland",
        "Norwich",
        "Oadby and Wigston",
        "Peterborough",
        "Portsmouth",
        "Redbridge",
        "Redditch",
        "Ribble Valley",
        "Richmondshire",
        "Rochdale",
        "Rother",
        "Rotherham",
        "Runnymede",
        "Rushcliffe",
        "Sandwell",
        "Scarborough",
        "Selby",
        "Sheffield",
        "South Bucks",
        "South Cambridgeshire",
        "South Derbyshire",
        "South Gloucestershire",
        "South Somerset",
        "South Staffordshire",
        "South Tyneside",
        "Southampton",
        "Southend-on-Sea",
        "Spelthorne",
        "Staffordshire Moorlands",
        "Stoke-on-Trent",
        "Sutton",
        "Swindon",
        "Tameside",
        "Tandridge",
        "Teignbridge",
        "Telford and Wrekin",
        "Tendring",
        "Tewkesbury",
        "Torbay",
        "Torridge",
        "Trafford",
        "Vale of White Horse",
        "Wakefield",
        "Walsall",
        "Warwick",
        "Watford",
        "Wellingborough",
        "West Lancashire",
        "Wigan",
        "Winchester",
        "Worthing",
        "Wychavon",
        "Wycombe",
        "Wyre",
        "York"
       ],
       "_view_count": null,
       "_view_module": "@jupyter-widgets/controls",
       "_view_module_version": "1.5.0",
       "_view_name": "DropdownView",
       "description": "x",
       "description_tooltip": null,
       "disabled": false,
       "index": 0,
       "layout": "IPY_MODEL_a0615b0828994cfb8e771ed10510cbb7",
       "style": "IPY_MODEL_f8640f34b4c844d5a7793505fc23dbfa"
      }
     },
     "19fc9d9ee2b34b11b9dd3a7090ecf356": {
      "model_module": "@jupyter-widgets/controls",
      "model_module_version": "1.5.0",
      "model_name": "IntSliderModel",
      "state": {
       "_dom_classes": [],
       "_model_module": "@jupyter-widgets/controls",
       "_model_module_version": "1.5.0",
       "_model_name": "IntSliderModel",
       "_view_count": null,
       "_view_module": "@jupyter-widgets/controls",
       "_view_module_version": "1.5.0",
       "_view_name": "IntSliderView",
       "continuous_update": true,
       "description": "x",
       "description_tooltip": null,
       "disabled": false,
       "layout": "IPY_MODEL_3df87b9213664914a4a18ee5f22e8a28",
       "max": 1000,
       "min": 0,
       "orientation": "horizontal",
       "readout": true,
       "readout_format": "d",
       "step": 1,
       "style": "IPY_MODEL_cfff19866c4f41c781f78dd2eae7997f",
       "value": 10
      }
     },
     "1b7d973ddd3f4ea0a76caf030a70401b": {
      "model_module": "@jupyter-widgets/base",
      "model_module_version": "1.2.0",
      "model_name": "LayoutModel",
      "state": {
       "_model_module": "@jupyter-widgets/base",
       "_model_module_version": "1.2.0",
       "_model_name": "LayoutModel",
       "_view_count": null,
       "_view_module": "@jupyter-widgets/base",
       "_view_module_version": "1.2.0",
       "_view_name": "LayoutView",
       "align_content": null,
       "align_items": null,
       "align_self": null,
       "border": null,
       "bottom": null,
       "display": null,
       "flex": null,
       "flex_flow": null,
       "grid_area": null,
       "grid_auto_columns": null,
       "grid_auto_flow": null,
       "grid_auto_rows": null,
       "grid_column": null,
       "grid_gap": null,
       "grid_row": null,
       "grid_template_areas": null,
       "grid_template_columns": null,
       "grid_template_rows": null,
       "height": null,
       "justify_content": null,
       "justify_items": null,
       "left": null,
       "margin": null,
       "max_height": null,
       "max_width": null,
       "min_height": null,
       "min_width": null,
       "object_fit": null,
       "object_position": null,
       "order": null,
       "overflow": null,
       "overflow_x": null,
       "overflow_y": null,
       "padding": null,
       "right": null,
       "top": null,
       "visibility": null,
       "width": null
      }
     },
     "1c502d8547f14291a29bd47f3e803dd4": {
      "model_module": "@jupyter-widgets/output",
      "model_module_version": "1.0.0",
      "model_name": "OutputModel",
      "state": {
       "_dom_classes": [],
       "_model_module": "@jupyter-widgets/output",
       "_model_module_version": "1.0.0",
       "_model_name": "OutputModel",
       "_view_count": null,
       "_view_module": "@jupyter-widgets/output",
       "_view_module_version": "1.0.0",
       "_view_name": "OutputView",
       "layout": "IPY_MODEL_8000cf0602ed417eae71f6145d0effd8",
       "msg_id": "",
       "outputs": [
        {
         "data": {
          "text/html": "<div>\n<style scoped>\n    .dataframe tbody tr th:only-of-type {\n        vertical-align: middle;\n    }\n\n    .dataframe tbody tr th {\n        vertical-align: top;\n    }\n\n    .dataframe thead th {\n        text-align: right;\n    }\n</style>\n<table border=\"1\" class=\"dataframe\">\n  <thead>\n    <tr style=\"text-align: right;\">\n      <th></th>\n      <th>Area name</th>\n      <th>Area code</th>\n      <th>Area type</th>\n      <th>Specimen date</th>\n      <th>Daily lab-confirmed cases</th>\n      <th>Cumulative lab-confirmed cases</th>\n      <th>Cumulative lab-confirmed cases rate</th>\n    </tr>\n  </thead>\n  <tbody>\n    <tr>\n      <th>22802</th>\n      <td>Arun</td>\n      <td>E07000224</td>\n      <td>ltla</td>\n      <td>2021-04-26</td>\n      <td>2</td>\n      <td>8253</td>\n      <td>5133.8</td>\n    </tr>\n    <tr>\n      <th>22803</th>\n      <td>Arun</td>\n      <td>E07000224</td>\n      <td>ltla</td>\n      <td>2021-04-25</td>\n      <td>5</td>\n      <td>8251</td>\n      <td>5132.6</td>\n    </tr>\n    <tr>\n      <th>22804</th>\n      <td>Arun</td>\n      <td>E07000224</td>\n      <td>ltla</td>\n      <td>2021-04-24</td>\n      <td>2</td>\n      <td>8246</td>\n      <td>5129.4</td>\n    </tr>\n    <tr>\n      <th>22805</th>\n      <td>Arun</td>\n      <td>E07000224</td>\n      <td>ltla</td>\n      <td>2021-04-23</td>\n      <td>4</td>\n      <td>8244</td>\n      <td>5128.2</td>\n    </tr>\n    <tr>\n      <th>22806</th>\n      <td>Arun</td>\n      <td>E07000224</td>\n      <td>ltla</td>\n      <td>2021-04-22</td>\n      <td>2</td>\n      <td>8240</td>\n      <td>5125.7</td>\n    </tr>\n    <tr>\n      <th>...</th>\n      <td>...</td>\n      <td>...</td>\n      <td>...</td>\n      <td>...</td>\n      <td>...</td>\n      <td>...</td>\n      <td>...</td>\n    </tr>\n    <tr>\n      <th>45169</th>\n      <td>Arun</td>\n      <td>E07000224</td>\n      <td>ltla</td>\n      <td>2020-07-31</td>\n      <td>0</td>\n      <td>330</td>\n      <td>205.3</td>\n    </tr>\n    <tr>\n      <th>45170</th>\n      <td>Arun</td>\n      <td>E07000224</td>\n      <td>ltla</td>\n      <td>2020-07-30</td>\n      <td>0</td>\n      <td>330</td>\n      <td>205.3</td>\n    </tr>\n    <tr>\n      <th>45171</th>\n      <td>Arun</td>\n      <td>E07000224</td>\n      <td>ltla</td>\n      <td>2020-07-29</td>\n      <td>1</td>\n      <td>330</td>\n      <td>205.3</td>\n    </tr>\n    <tr>\n      <th>45172</th>\n      <td>Arun</td>\n      <td>E07000224</td>\n      <td>ltla</td>\n      <td>2020-07-28</td>\n      <td>0</td>\n      <td>329</td>\n      <td>204.7</td>\n    </tr>\n    <tr>\n      <th>45175</th>\n      <td>Arun</td>\n      <td>E07000224</td>\n      <td>ltla</td>\n      <td>2020-07-26</td>\n      <td>0</td>\n      <td>329</td>\n      <td>204.7</td>\n    </tr>\n  </tbody>\n</table>\n<p>316 rows × 7 columns</p>\n</div>",
          "text/plain": "      Area name  Area code Area type Specimen date  Daily lab-confirmed cases  \\\n22802      Arun  E07000224      ltla    2021-04-26                          2   \n22803      Arun  E07000224      ltla    2021-04-25                          5   \n22804      Arun  E07000224      ltla    2021-04-24                          2   \n22805      Arun  E07000224      ltla    2021-04-23                          4   \n22806      Arun  E07000224      ltla    2021-04-22                          2   \n...         ...        ...       ...           ...                        ...   \n45169      Arun  E07000224      ltla    2020-07-31                          0   \n45170      Arun  E07000224      ltla    2020-07-30                          0   \n45171      Arun  E07000224      ltla    2020-07-29                          1   \n45172      Arun  E07000224      ltla    2020-07-28                          0   \n45175      Arun  E07000224      ltla    2020-07-26                          0   \n\n       Cumulative lab-confirmed cases  Cumulative lab-confirmed cases rate  \n22802                            8253                               5133.8  \n22803                            8251                               5132.6  \n22804                            8246                               5129.4  \n22805                            8244                               5128.2  \n22806                            8240                               5125.7  \n...                               ...                                  ...  \n45169                             330                                205.3  \n45170                             330                                205.3  \n45171                             330                                205.3  \n45172                             329                                204.7  \n45175                             329                                204.7  \n\n[316 rows x 7 columns]"
         },
         "metadata": {},
         "output_type": "display_data"
        }
       ]
      }
     },
     "20ea43a180f447a795bc912ee9888719": {
      "model_module": "@jupyter-widgets/controls",
      "model_module_version": "1.5.0",
      "model_name": "SliderStyleModel",
      "state": {
       "_model_module": "@jupyter-widgets/controls",
       "_model_module_version": "1.5.0",
       "_model_name": "SliderStyleModel",
       "_view_count": null,
       "_view_module": "@jupyter-widgets/base",
       "_view_module_version": "1.2.0",
       "_view_name": "StyleView",
       "description_width": "",
       "handle_color": null
      }
     },
     "2714a84eff1a42b29d5a7e779077b123": {
      "model_module": "@jupyter-widgets/controls",
      "model_module_version": "1.5.0",
      "model_name": "VBoxModel",
      "state": {
       "_dom_classes": [
        "widget-interact"
       ],
       "_model_module": "@jupyter-widgets/controls",
       "_model_module_version": "1.5.0",
       "_model_name": "VBoxModel",
       "_view_count": null,
       "_view_module": "@jupyter-widgets/controls",
       "_view_module_version": "1.5.0",
       "_view_name": "VBoxView",
       "box_style": "",
       "children": [
        "IPY_MODEL_07f8222ba2724ef582c9b35906b6790a",
        "IPY_MODEL_9c67e1d09cb547798e16215782f26abf",
        "IPY_MODEL_3068f1692357443daa254f6948a07832"
       ],
       "layout": "IPY_MODEL_96fe7fb221ba45ddbf8d9dfb2034f881"
      }
     },
     "27b8f28a422641fea73f195c0b378d8e": {
      "model_module": "@jupyter-widgets/controls",
      "model_module_version": "1.5.0",
      "model_name": "DescriptionStyleModel",
      "state": {
       "_model_module": "@jupyter-widgets/controls",
       "_model_module_version": "1.5.0",
       "_model_name": "DescriptionStyleModel",
       "_view_count": null,
       "_view_module": "@jupyter-widgets/base",
       "_view_module_version": "1.2.0",
       "_view_name": "StyleView",
       "description_width": ""
      }
     },
     "3068f1692357443daa254f6948a07832": {
      "model_module": "@jupyter-widgets/output",
      "model_module_version": "1.0.0",
      "model_name": "OutputModel",
      "state": {
       "_dom_classes": [],
       "_model_module": "@jupyter-widgets/output",
       "_model_module_version": "1.0.0",
       "_model_name": "OutputModel",
       "_view_count": null,
       "_view_module": "@jupyter-widgets/output",
       "_view_module_version": "1.0.0",
       "_view_name": "OutputView",
       "layout": "IPY_MODEL_1845c367be184104ae9dba6322e7e4bb",
       "msg_id": "",
       "outputs": [
        {
         "data": {
          "text/html": "<div>\n<style scoped>\n    .dataframe tbody tr th:only-of-type {\n        vertical-align: middle;\n    }\n\n    .dataframe tbody tr th {\n        vertical-align: top;\n    }\n\n    .dataframe thead th {\n        text-align: right;\n    }\n</style>\n<table border=\"1\" class=\"dataframe\">\n  <thead>\n    <tr style=\"text-align: right;\">\n      <th></th>\n      <th>Area name</th>\n      <th>Area code</th>\n      <th>Area type</th>\n      <th>Specimen date</th>\n      <th>Daily lab-confirmed cases</th>\n      <th>Cumulative lab-confirmed cases</th>\n      <th>Cumulative lab-confirmed cases rate</th>\n    </tr>\n  </thead>\n  <tbody>\n    <tr>\n      <th>16</th>\n      <td>Wakefield</td>\n      <td>E08000036</td>\n      <td>ltla</td>\n      <td>2021-04-25</td>\n      <td>31</td>\n      <td>25671</td>\n      <td>7370.1</td>\n    </tr>\n    <tr>\n      <th>49</th>\n      <td>Sheffield</td>\n      <td>E08000019</td>\n      <td>ltla</td>\n      <td>2021-04-25</td>\n      <td>27</td>\n      <td>43611</td>\n      <td>7456.7</td>\n    </tr>\n    <tr>\n      <th>66</th>\n      <td>Wakefield</td>\n      <td>E08000036</td>\n      <td>ltla</td>\n      <td>2021-04-23</td>\n      <td>36</td>\n      <td>25626</td>\n      <td>7357.2</td>\n    </tr>\n    <tr>\n      <th>67</th>\n      <td>Wakefield</td>\n      <td>E08000036</td>\n      <td>ltla</td>\n      <td>2021-04-22</td>\n      <td>31</td>\n      <td>25590</td>\n      <td>7346.9</td>\n    </tr>\n    <tr>\n      <th>81</th>\n      <td>Sheffield</td>\n      <td>E08000019</td>\n      <td>ltla</td>\n      <td>2021-04-24</td>\n      <td>24</td>\n      <td>43584</td>\n      <td>7452.1</td>\n    </tr>\n    <tr>\n      <th>...</th>\n      <td>...</td>\n      <td>...</td>\n      <td>...</td>\n      <td>...</td>\n      <td>...</td>\n      <td>...</td>\n      <td>...</td>\n    </tr>\n    <tr>\n      <th>45292</th>\n      <td>Norfolk</td>\n      <td>E10000020</td>\n      <td>utla</td>\n      <td>2021-01-13</td>\n      <td>621</td>\n      <td>28630</td>\n      <td>3153.9</td>\n    </tr>\n    <tr>\n      <th>45293</th>\n      <td>Norfolk</td>\n      <td>E10000020</td>\n      <td>utla</td>\n      <td>2021-01-12</td>\n      <td>671</td>\n      <td>28009</td>\n      <td>3085.5</td>\n    </tr>\n    <tr>\n      <th>45294</th>\n      <td>Norfolk</td>\n      <td>E10000020</td>\n      <td>utla</td>\n      <td>2021-01-11</td>\n      <td>795</td>\n      <td>27338</td>\n      <td>3011.6</td>\n    </tr>\n    <tr>\n      <th>45295</th>\n      <td>Norfolk</td>\n      <td>E10000020</td>\n      <td>utla</td>\n      <td>2021-01-10</td>\n      <td>504</td>\n      <td>26543</td>\n      <td>2924.0</td>\n    </tr>\n    <tr>\n      <th>45296</th>\n      <td>Norfolk</td>\n      <td>E10000020</td>\n      <td>utla</td>\n      <td>2021-01-09</td>\n      <td>392</td>\n      <td>26039</td>\n      <td>2868.5</td>\n    </tr>\n  </tbody>\n</table>\n<p>14276 rows × 7 columns</p>\n</div>",
          "text/plain": "       Area name  Area code Area type Specimen date  \\\n16     Wakefield  E08000036      ltla    2021-04-25   \n49     Sheffield  E08000019      ltla    2021-04-25   \n66     Wakefield  E08000036      ltla    2021-04-23   \n67     Wakefield  E08000036      ltla    2021-04-22   \n81     Sheffield  E08000019      ltla    2021-04-24   \n...          ...        ...       ...           ...   \n45292    Norfolk  E10000020      utla    2021-01-13   \n45293    Norfolk  E10000020      utla    2021-01-12   \n45294    Norfolk  E10000020      utla    2021-01-11   \n45295    Norfolk  E10000020      utla    2021-01-10   \n45296    Norfolk  E10000020      utla    2021-01-09   \n\n       Daily lab-confirmed cases  Cumulative lab-confirmed cases  \\\n16                            31                           25671   \n49                            27                           43611   \n66                            36                           25626   \n67                            31                           25590   \n81                            24                           43584   \n...                          ...                             ...   \n45292                        621                           28630   \n45293                        671                           28009   \n45294                        795                           27338   \n45295                        504                           26543   \n45296                        392                           26039   \n\n       Cumulative lab-confirmed cases rate  \n16                                  7370.1  \n49                                  7456.7  \n66                                  7357.2  \n67                                  7346.9  \n81                                  7452.1  \n...                                    ...  \n45292                               3153.9  \n45293                               3085.5  \n45294                               3011.6  \n45295                               2924.0  \n45296                               2868.5  \n\n[14276 rows x 7 columns]"
         },
         "metadata": {},
         "output_type": "display_data"
        }
       ]
      }
     },
     "3df87b9213664914a4a18ee5f22e8a28": {
      "model_module": "@jupyter-widgets/base",
      "model_module_version": "1.2.0",
      "model_name": "LayoutModel",
      "state": {
       "_model_module": "@jupyter-widgets/base",
       "_model_module_version": "1.2.0",
       "_model_name": "LayoutModel",
       "_view_count": null,
       "_view_module": "@jupyter-widgets/base",
       "_view_module_version": "1.2.0",
       "_view_name": "LayoutView",
       "align_content": null,
       "align_items": null,
       "align_self": null,
       "border": null,
       "bottom": null,
       "display": null,
       "flex": null,
       "flex_flow": null,
       "grid_area": null,
       "grid_auto_columns": null,
       "grid_auto_flow": null,
       "grid_auto_rows": null,
       "grid_column": null,
       "grid_gap": null,
       "grid_row": null,
       "grid_template_areas": null,
       "grid_template_columns": null,
       "grid_template_rows": null,
       "height": null,
       "justify_content": null,
       "justify_items": null,
       "left": null,
       "margin": null,
       "max_height": null,
       "max_width": null,
       "min_height": null,
       "min_width": null,
       "object_fit": null,
       "object_position": null,
       "order": null,
       "overflow": null,
       "overflow_x": null,
       "overflow_y": null,
       "padding": null,
       "right": null,
       "top": null,
       "visibility": null,
       "width": null
      }
     },
     "503b86f743b14a2c8d35c65f85046288": {
      "model_module": "@jupyter-widgets/controls",
      "model_module_version": "1.5.0",
      "model_name": "TextModel",
      "state": {
       "_dom_classes": [],
       "_model_module": "@jupyter-widgets/controls",
       "_model_module_version": "1.5.0",
       "_model_name": "TextModel",
       "_view_count": null,
       "_view_module": "@jupyter-widgets/controls",
       "_view_module_version": "1.5.0",
       "_view_name": "TextView",
       "continuous_update": true,
       "description": "column",
       "description_tooltip": null,
       "disabled": false,
       "layout": "IPY_MODEL_b13f8cf9c396464da0cd4c7e51b06f48",
       "placeholder": "​",
       "style": "IPY_MODEL_bda1a8c4ae394c18be395acd4e8ebdfd",
       "value": "Daily lab-confirmed cases"
      }
     },
     "55ddbf96ae6044aba53d9f90b71abdfd": {
      "model_module": "@jupyter-widgets/controls",
      "model_module_version": "1.5.0",
      "model_name": "TextModel",
      "state": {
       "_dom_classes": [],
       "_model_module": "@jupyter-widgets/controls",
       "_model_module_version": "1.5.0",
       "_model_name": "TextModel",
       "_view_count": null,
       "_view_module": "@jupyter-widgets/controls",
       "_view_module_version": "1.5.0",
       "_view_name": "TextView",
       "continuous_update": true,
       "description": "column",
       "description_tooltip": null,
       "disabled": false,
       "layout": "IPY_MODEL_870db16b3cc24971835c96d3093b01d1",
       "placeholder": "​",
       "style": "IPY_MODEL_27b8f28a422641fea73f195c0b378d8e",
       "value": "Area name"
      }
     },
     "64a43b06bbe3481584894cce98a30b20": {
      "model_module": "@jupyter-widgets/controls",
      "model_module_version": "1.5.0",
      "model_name": "VBoxModel",
      "state": {
       "_dom_classes": [
        "widget-interact"
       ],
       "_model_module": "@jupyter-widgets/controls",
       "_model_module_version": "1.5.0",
       "_model_name": "VBoxModel",
       "_view_count": null,
       "_view_module": "@jupyter-widgets/controls",
       "_view_module_version": "1.5.0",
       "_view_name": "VBoxView",
       "box_style": "",
       "children": [
        "IPY_MODEL_503b86f743b14a2c8d35c65f85046288",
        "IPY_MODEL_19fc9d9ee2b34b11b9dd3a7090ecf356",
        "IPY_MODEL_ddbbd4cf58ff4f55a5f600c49a431570"
       ],
       "layout": "IPY_MODEL_a94a0a3c2ea546c3a0666f3514886b74"
      }
     },
     "8000cf0602ed417eae71f6145d0effd8": {
      "model_module": "@jupyter-widgets/base",
      "model_module_version": "1.2.0",
      "model_name": "LayoutModel",
      "state": {
       "_model_module": "@jupyter-widgets/base",
       "_model_module_version": "1.2.0",
       "_model_name": "LayoutModel",
       "_view_count": null,
       "_view_module": "@jupyter-widgets/base",
       "_view_module_version": "1.2.0",
       "_view_name": "LayoutView",
       "align_content": null,
       "align_items": null,
       "align_self": null,
       "border": null,
       "bottom": null,
       "display": null,
       "flex": null,
       "flex_flow": null,
       "grid_area": null,
       "grid_auto_columns": null,
       "grid_auto_flow": null,
       "grid_auto_rows": null,
       "grid_column": null,
       "grid_gap": null,
       "grid_row": null,
       "grid_template_areas": null,
       "grid_template_columns": null,
       "grid_template_rows": null,
       "height": null,
       "justify_content": null,
       "justify_items": null,
       "left": null,
       "margin": null,
       "max_height": null,
       "max_width": null,
       "min_height": null,
       "min_width": null,
       "object_fit": null,
       "object_position": null,
       "order": null,
       "overflow": null,
       "overflow_x": null,
       "overflow_y": null,
       "padding": null,
       "right": null,
       "top": null,
       "visibility": null,
       "width": null
      }
     },
     "846dffdcdeba4c9b810b25806e64330e": {
      "model_module": "@jupyter-widgets/base",
      "model_module_version": "1.2.0",
      "model_name": "LayoutModel",
      "state": {
       "_model_module": "@jupyter-widgets/base",
       "_model_module_version": "1.2.0",
       "_model_name": "LayoutModel",
       "_view_count": null,
       "_view_module": "@jupyter-widgets/base",
       "_view_module_version": "1.2.0",
       "_view_name": "LayoutView",
       "align_content": null,
       "align_items": null,
       "align_self": null,
       "border": null,
       "bottom": null,
       "display": null,
       "flex": null,
       "flex_flow": null,
       "grid_area": null,
       "grid_auto_columns": null,
       "grid_auto_flow": null,
       "grid_auto_rows": null,
       "grid_column": null,
       "grid_gap": null,
       "grid_row": null,
       "grid_template_areas": null,
       "grid_template_columns": null,
       "grid_template_rows": null,
       "height": null,
       "justify_content": null,
       "justify_items": null,
       "left": null,
       "margin": null,
       "max_height": null,
       "max_width": null,
       "min_height": null,
       "min_width": null,
       "object_fit": null,
       "object_position": null,
       "order": null,
       "overflow": null,
       "overflow_x": null,
       "overflow_y": null,
       "padding": null,
       "right": null,
       "top": null,
       "visibility": null,
       "width": null
      }
     },
     "870db16b3cc24971835c96d3093b01d1": {
      "model_module": "@jupyter-widgets/base",
      "model_module_version": "1.2.0",
      "model_name": "LayoutModel",
      "state": {
       "_model_module": "@jupyter-widgets/base",
       "_model_module_version": "1.2.0",
       "_model_name": "LayoutModel",
       "_view_count": null,
       "_view_module": "@jupyter-widgets/base",
       "_view_module_version": "1.2.0",
       "_view_name": "LayoutView",
       "align_content": null,
       "align_items": null,
       "align_self": null,
       "border": null,
       "bottom": null,
       "display": null,
       "flex": null,
       "flex_flow": null,
       "grid_area": null,
       "grid_auto_columns": null,
       "grid_auto_flow": null,
       "grid_auto_rows": null,
       "grid_column": null,
       "grid_gap": null,
       "grid_row": null,
       "grid_template_areas": null,
       "grid_template_columns": null,
       "grid_template_rows": null,
       "height": null,
       "justify_content": null,
       "justify_items": null,
       "left": null,
       "margin": null,
       "max_height": null,
       "max_width": null,
       "min_height": null,
       "min_width": null,
       "object_fit": null,
       "object_position": null,
       "order": null,
       "overflow": null,
       "overflow_x": null,
       "overflow_y": null,
       "padding": null,
       "right": null,
       "top": null,
       "visibility": null,
       "width": null
      }
     },
     "9250c7ab03404d97aa5f77accf3049f1": {
      "model_module": "@jupyter-widgets/base",
      "model_module_version": "1.2.0",
      "model_name": "LayoutModel",
      "state": {
       "_model_module": "@jupyter-widgets/base",
       "_model_module_version": "1.2.0",
       "_model_name": "LayoutModel",
       "_view_count": null,
       "_view_module": "@jupyter-widgets/base",
       "_view_module_version": "1.2.0",
       "_view_name": "LayoutView",
       "align_content": null,
       "align_items": null,
       "align_self": null,
       "border": null,
       "bottom": null,
       "display": null,
       "flex": null,
       "flex_flow": null,
       "grid_area": null,
       "grid_auto_columns": null,
       "grid_auto_flow": null,
       "grid_auto_rows": null,
       "grid_column": null,
       "grid_gap": null,
       "grid_row": null,
       "grid_template_areas": null,
       "grid_template_columns": null,
       "grid_template_rows": null,
       "height": null,
       "justify_content": null,
       "justify_items": null,
       "left": null,
       "margin": null,
       "max_height": null,
       "max_width": null,
       "min_height": null,
       "min_width": null,
       "object_fit": null,
       "object_position": null,
       "order": null,
       "overflow": null,
       "overflow_x": null,
       "overflow_y": null,
       "padding": null,
       "right": null,
       "top": null,
       "visibility": null,
       "width": null
      }
     },
     "93b6eb3ea9ac476e922d40a9c79274c8": {
      "model_module": "@jupyter-widgets/base",
      "model_module_version": "1.2.0",
      "model_name": "LayoutModel",
      "state": {
       "_model_module": "@jupyter-widgets/base",
       "_model_module_version": "1.2.0",
       "_model_name": "LayoutModel",
       "_view_count": null,
       "_view_module": "@jupyter-widgets/base",
       "_view_module_version": "1.2.0",
       "_view_name": "LayoutView",
       "align_content": null,
       "align_items": null,
       "align_self": null,
       "border": null,
       "bottom": null,
       "display": null,
       "flex": null,
       "flex_flow": null,
       "grid_area": null,
       "grid_auto_columns": null,
       "grid_auto_flow": null,
       "grid_auto_rows": null,
       "grid_column": null,
       "grid_gap": null,
       "grid_row": null,
       "grid_template_areas": null,
       "grid_template_columns": null,
       "grid_template_rows": null,
       "height": null,
       "justify_content": null,
       "justify_items": null,
       "left": null,
       "margin": null,
       "max_height": null,
       "max_width": null,
       "min_height": null,
       "min_width": null,
       "object_fit": null,
       "object_position": null,
       "order": null,
       "overflow": null,
       "overflow_x": null,
       "overflow_y": null,
       "padding": null,
       "right": null,
       "top": null,
       "visibility": null,
       "width": null
      }
     },
     "96fe7fb221ba45ddbf8d9dfb2034f881": {
      "model_module": "@jupyter-widgets/base",
      "model_module_version": "1.2.0",
      "model_name": "LayoutModel",
      "state": {
       "_model_module": "@jupyter-widgets/base",
       "_model_module_version": "1.2.0",
       "_model_name": "LayoutModel",
       "_view_count": null,
       "_view_module": "@jupyter-widgets/base",
       "_view_module_version": "1.2.0",
       "_view_name": "LayoutView",
       "align_content": null,
       "align_items": null,
       "align_self": null,
       "border": null,
       "bottom": null,
       "display": null,
       "flex": null,
       "flex_flow": null,
       "grid_area": null,
       "grid_auto_columns": null,
       "grid_auto_flow": null,
       "grid_auto_rows": null,
       "grid_column": null,
       "grid_gap": null,
       "grid_row": null,
       "grid_template_areas": null,
       "grid_template_columns": null,
       "grid_template_rows": null,
       "height": null,
       "justify_content": null,
       "justify_items": null,
       "left": null,
       "margin": null,
       "max_height": null,
       "max_width": null,
       "min_height": null,
       "min_width": null,
       "object_fit": null,
       "object_position": null,
       "order": null,
       "overflow": null,
       "overflow_x": null,
       "overflow_y": null,
       "padding": null,
       "right": null,
       "top": null,
       "visibility": null,
       "width": null
      }
     },
     "9c67e1d09cb547798e16215782f26abf": {
      "model_module": "@jupyter-widgets/controls",
      "model_module_version": "1.5.0",
      "model_name": "IntSliderModel",
      "state": {
       "_dom_classes": [],
       "_model_module": "@jupyter-widgets/controls",
       "_model_module_version": "1.5.0",
       "_model_name": "IntSliderModel",
       "_view_count": null,
       "_view_module": "@jupyter-widgets/controls",
       "_view_module_version": "1.5.0",
       "_view_name": "IntSliderView",
       "continuous_update": true,
       "description": "x",
       "description_tooltip": null,
       "disabled": false,
       "layout": "IPY_MODEL_9250c7ab03404d97aa5f77accf3049f1",
       "max": 60,
       "min": -20,
       "orientation": "horizontal",
       "readout": true,
       "readout_format": "d",
       "step": 1,
       "style": "IPY_MODEL_20ea43a180f447a795bc912ee9888719",
       "value": 20
      }
     },
     "a0615b0828994cfb8e771ed10510cbb7": {
      "model_module": "@jupyter-widgets/base",
      "model_module_version": "1.2.0",
      "model_name": "LayoutModel",
      "state": {
       "_model_module": "@jupyter-widgets/base",
       "_model_module_version": "1.2.0",
       "_model_name": "LayoutModel",
       "_view_count": null,
       "_view_module": "@jupyter-widgets/base",
       "_view_module_version": "1.2.0",
       "_view_name": "LayoutView",
       "align_content": null,
       "align_items": null,
       "align_self": null,
       "border": null,
       "bottom": null,
       "display": null,
       "flex": null,
       "flex_flow": null,
       "grid_area": null,
       "grid_auto_columns": null,
       "grid_auto_flow": null,
       "grid_auto_rows": null,
       "grid_column": null,
       "grid_gap": null,
       "grid_row": null,
       "grid_template_areas": null,
       "grid_template_columns": null,
       "grid_template_rows": null,
       "height": null,
       "justify_content": null,
       "justify_items": null,
       "left": null,
       "margin": null,
       "max_height": null,
       "max_width": null,
       "min_height": null,
       "min_width": null,
       "object_fit": null,
       "object_position": null,
       "order": null,
       "overflow": null,
       "overflow_x": null,
       "overflow_y": null,
       "padding": null,
       "right": null,
       "top": null,
       "visibility": null,
       "width": null
      }
     },
     "a94a0a3c2ea546c3a0666f3514886b74": {
      "model_module": "@jupyter-widgets/base",
      "model_module_version": "1.2.0",
      "model_name": "LayoutModel",
      "state": {
       "_model_module": "@jupyter-widgets/base",
       "_model_module_version": "1.2.0",
       "_model_name": "LayoutModel",
       "_view_count": null,
       "_view_module": "@jupyter-widgets/base",
       "_view_module_version": "1.2.0",
       "_view_name": "LayoutView",
       "align_content": null,
       "align_items": null,
       "align_self": null,
       "border": null,
       "bottom": null,
       "display": null,
       "flex": null,
       "flex_flow": null,
       "grid_area": null,
       "grid_auto_columns": null,
       "grid_auto_flow": null,
       "grid_auto_rows": null,
       "grid_column": null,
       "grid_gap": null,
       "grid_row": null,
       "grid_template_areas": null,
       "grid_template_columns": null,
       "grid_template_rows": null,
       "height": null,
       "justify_content": null,
       "justify_items": null,
       "left": null,
       "margin": null,
       "max_height": null,
       "max_width": null,
       "min_height": null,
       "min_width": null,
       "object_fit": null,
       "object_position": null,
       "order": null,
       "overflow": null,
       "overflow_x": null,
       "overflow_y": null,
       "padding": null,
       "right": null,
       "top": null,
       "visibility": null,
       "width": null
      }
     },
     "aed1187efc9c49faa73b7b09264b5745": {
      "model_module": "@jupyter-widgets/controls",
      "model_module_version": "1.5.0",
      "model_name": "VBoxModel",
      "state": {
       "_dom_classes": [
        "widget-interact"
       ],
       "_model_module": "@jupyter-widgets/controls",
       "_model_module_version": "1.5.0",
       "_model_name": "VBoxModel",
       "_view_count": null,
       "_view_module": "@jupyter-widgets/controls",
       "_view_module_version": "1.5.0",
       "_view_name": "VBoxView",
       "box_style": "",
       "children": [
        "IPY_MODEL_55ddbf96ae6044aba53d9f90b71abdfd",
        "IPY_MODEL_18779164baad486c9d63a8bce1daa310",
        "IPY_MODEL_1c502d8547f14291a29bd47f3e803dd4"
       ],
       "layout": "IPY_MODEL_93b6eb3ea9ac476e922d40a9c79274c8"
      }
     },
     "b13f8cf9c396464da0cd4c7e51b06f48": {
      "model_module": "@jupyter-widgets/base",
      "model_module_version": "1.2.0",
      "model_name": "LayoutModel",
      "state": {
       "_model_module": "@jupyter-widgets/base",
       "_model_module_version": "1.2.0",
       "_model_name": "LayoutModel",
       "_view_count": null,
       "_view_module": "@jupyter-widgets/base",
       "_view_module_version": "1.2.0",
       "_view_name": "LayoutView",
       "align_content": null,
       "align_items": null,
       "align_self": null,
       "border": null,
       "bottom": null,
       "display": null,
       "flex": null,
       "flex_flow": null,
       "grid_area": null,
       "grid_auto_columns": null,
       "grid_auto_flow": null,
       "grid_auto_rows": null,
       "grid_column": null,
       "grid_gap": null,
       "grid_row": null,
       "grid_template_areas": null,
       "grid_template_columns": null,
       "grid_template_rows": null,
       "height": null,
       "justify_content": null,
       "justify_items": null,
       "left": null,
       "margin": null,
       "max_height": null,
       "max_width": null,
       "min_height": null,
       "min_width": null,
       "object_fit": null,
       "object_position": null,
       "order": null,
       "overflow": null,
       "overflow_x": null,
       "overflow_y": null,
       "padding": null,
       "right": null,
       "top": null,
       "visibility": null,
       "width": null
      }
     },
     "bda1a8c4ae394c18be395acd4e8ebdfd": {
      "model_module": "@jupyter-widgets/controls",
      "model_module_version": "1.5.0",
      "model_name": "DescriptionStyleModel",
      "state": {
       "_model_module": "@jupyter-widgets/controls",
       "_model_module_version": "1.5.0",
       "_model_name": "DescriptionStyleModel",
       "_view_count": null,
       "_view_module": "@jupyter-widgets/base",
       "_view_module_version": "1.2.0",
       "_view_name": "StyleView",
       "description_width": ""
      }
     },
     "cfff19866c4f41c781f78dd2eae7997f": {
      "model_module": "@jupyter-widgets/controls",
      "model_module_version": "1.5.0",
      "model_name": "SliderStyleModel",
      "state": {
       "_model_module": "@jupyter-widgets/controls",
       "_model_module_version": "1.5.0",
       "_model_name": "SliderStyleModel",
       "_view_count": null,
       "_view_module": "@jupyter-widgets/base",
       "_view_module_version": "1.2.0",
       "_view_name": "StyleView",
       "description_width": "",
       "handle_color": null
      }
     },
     "ddbbd4cf58ff4f55a5f600c49a431570": {
      "model_module": "@jupyter-widgets/output",
      "model_module_version": "1.0.0",
      "model_name": "OutputModel",
      "state": {
       "_dom_classes": [],
       "_model_module": "@jupyter-widgets/output",
       "_model_module_version": "1.0.0",
       "_model_name": "OutputModel",
       "_view_count": null,
       "_view_module": "@jupyter-widgets/output",
       "_view_module_version": "1.0.0",
       "_view_name": "OutputView",
       "layout": "IPY_MODEL_1b7d973ddd3f4ea0a76caf030a70401b",
       "msg_id": "",
       "outputs": [
        {
         "data": {
          "text/html": "<div>\n<style scoped>\n    .dataframe tbody tr th:only-of-type {\n        vertical-align: middle;\n    }\n\n    .dataframe tbody tr th {\n        vertical-align: top;\n    }\n\n    .dataframe thead th {\n        text-align: right;\n    }\n</style>\n<table border=\"1\" class=\"dataframe\">\n  <thead>\n    <tr style=\"text-align: right;\">\n      <th></th>\n      <th>Area name</th>\n      <th>Area code</th>\n      <th>Area type</th>\n      <th>Specimen date</th>\n      <th>Daily lab-confirmed cases</th>\n      <th>Cumulative lab-confirmed cases</th>\n      <th>Cumulative lab-confirmed cases rate</th>\n    </tr>\n  </thead>\n  <tbody>\n    <tr>\n      <th>10</th>\n      <td>Wakefield</td>\n      <td>E08000036</td>\n      <td>ltla</td>\n      <td>2021-04-26</td>\n      <td>16</td>\n      <td>25687</td>\n      <td>7374.7</td>\n    </tr>\n    <tr>\n      <th>16</th>\n      <td>Wakefield</td>\n      <td>E08000036</td>\n      <td>ltla</td>\n      <td>2021-04-25</td>\n      <td>31</td>\n      <td>25671</td>\n      <td>7370.1</td>\n    </tr>\n    <tr>\n      <th>25</th>\n      <td>Sheffield</td>\n      <td>E08000019</td>\n      <td>ltla</td>\n      <td>2021-04-26</td>\n      <td>15</td>\n      <td>43626</td>\n      <td>7459.3</td>\n    </tr>\n    <tr>\n      <th>28</th>\n      <td>Wakefield</td>\n      <td>E08000036</td>\n      <td>ltla</td>\n      <td>2021-04-24</td>\n      <td>14</td>\n      <td>25640</td>\n      <td>7361.2</td>\n    </tr>\n    <tr>\n      <th>49</th>\n      <td>Sheffield</td>\n      <td>E08000019</td>\n      <td>ltla</td>\n      <td>2021-04-25</td>\n      <td>27</td>\n      <td>43611</td>\n      <td>7456.7</td>\n    </tr>\n    <tr>\n      <th>...</th>\n      <td>...</td>\n      <td>...</td>\n      <td>...</td>\n      <td>...</td>\n      <td>...</td>\n      <td>...</td>\n      <td>...</td>\n    </tr>\n    <tr>\n      <th>45292</th>\n      <td>Norfolk</td>\n      <td>E10000020</td>\n      <td>utla</td>\n      <td>2021-01-13</td>\n      <td>621</td>\n      <td>28630</td>\n      <td>3153.9</td>\n    </tr>\n    <tr>\n      <th>45293</th>\n      <td>Norfolk</td>\n      <td>E10000020</td>\n      <td>utla</td>\n      <td>2021-01-12</td>\n      <td>671</td>\n      <td>28009</td>\n      <td>3085.5</td>\n    </tr>\n    <tr>\n      <th>45294</th>\n      <td>Norfolk</td>\n      <td>E10000020</td>\n      <td>utla</td>\n      <td>2021-01-11</td>\n      <td>795</td>\n      <td>27338</td>\n      <td>3011.6</td>\n    </tr>\n    <tr>\n      <th>45295</th>\n      <td>Norfolk</td>\n      <td>E10000020</td>\n      <td>utla</td>\n      <td>2021-01-10</td>\n      <td>504</td>\n      <td>26543</td>\n      <td>2924.0</td>\n    </tr>\n    <tr>\n      <th>45296</th>\n      <td>Norfolk</td>\n      <td>E10000020</td>\n      <td>utla</td>\n      <td>2021-01-09</td>\n      <td>392</td>\n      <td>26039</td>\n      <td>2868.5</td>\n    </tr>\n  </tbody>\n</table>\n<p>20257 rows × 7 columns</p>\n</div>",
          "text/plain": "       Area name  Area code Area type Specimen date  \\\n10     Wakefield  E08000036      ltla    2021-04-26   \n16     Wakefield  E08000036      ltla    2021-04-25   \n25     Sheffield  E08000019      ltla    2021-04-26   \n28     Wakefield  E08000036      ltla    2021-04-24   \n49     Sheffield  E08000019      ltla    2021-04-25   \n...          ...        ...       ...           ...   \n45292    Norfolk  E10000020      utla    2021-01-13   \n45293    Norfolk  E10000020      utla    2021-01-12   \n45294    Norfolk  E10000020      utla    2021-01-11   \n45295    Norfolk  E10000020      utla    2021-01-10   \n45296    Norfolk  E10000020      utla    2021-01-09   \n\n       Daily lab-confirmed cases  Cumulative lab-confirmed cases  \\\n10                            16                           25687   \n16                            31                           25671   \n25                            15                           43626   \n28                            14                           25640   \n49                            27                           43611   \n...                          ...                             ...   \n45292                        621                           28630   \n45293                        671                           28009   \n45294                        795                           27338   \n45295                        504                           26543   \n45296                        392                           26039   \n\n       Cumulative lab-confirmed cases rate  \n10                                  7374.7  \n16                                  7370.1  \n25                                  7459.3  \n28                                  7361.2  \n49                                  7456.7  \n...                                    ...  \n45292                               3153.9  \n45293                               3085.5  \n45294                               3011.6  \n45295                               2924.0  \n45296                               2868.5  \n\n[20257 rows x 7 columns]"
         },
         "metadata": {},
         "output_type": "display_data"
        }
       ]
      }
     },
     "f8640f34b4c844d5a7793505fc23dbfa": {
      "model_module": "@jupyter-widgets/controls",
      "model_module_version": "1.5.0",
      "model_name": "DescriptionStyleModel",
      "state": {
       "_model_module": "@jupyter-widgets/controls",
       "_model_module_version": "1.5.0",
       "_model_name": "DescriptionStyleModel",
       "_view_count": null,
       "_view_module": "@jupyter-widgets/base",
       "_view_module_version": "1.2.0",
       "_view_name": "StyleView",
       "description_width": ""
      }
     }
    },
    "version_major": 2,
    "version_minor": 0
   }
  }
 },
 "nbformat": 4,
 "nbformat_minor": 4
}