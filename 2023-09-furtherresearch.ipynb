{
 "cells": [
  {
   "cell_type": "markdown",
   "metadata": {},
   "source": [
    "# 09 FURTHER RESEARCH DIRECTIONS\n",
    "\n",
    "We have covered a lot of ground through this course, from the initial ideas around cyber security analytics, through to managing workflows, machine learning and visualisation, and different applications of analysis that may be required. Of course, future research will continue to evolve and we will see greater uses of data analytics to understand the world around us and how best to secure this.\n",
    "\n",
    "## Visualisation for Cyber Security\n",
    "\n",
    "The IEEE VizSec conference started in 2004 as the Workshop on Visualization and Data Mining for Computer Security, as a co-located event as part of the IEEE Vis conference – one of the largest International conferences on the topic of data visualisation. The conference is still an integral part of IEEE Vis, and continues to attract high-quality research publications. You can find more details about VizSec at https://vizsec.org/. There is also an online proceedings browser available at https://vizsec.dbvis.de/.\n",
    "\n",
    "# Future of Data Analytics in Cyber Security\n",
    "\n",
    "Here are just a small sample of articles and further reading that relate to the use of Machine Learning and Data Analytics for Cyber Security, ranging from Connected Autonomous Vechicles, HealthTech, and Industrial IoT - 3 key areas that are seeing significant impact from ML and data analytics, and that will plan an important role within society in our future.\n",
    "\n",
    "- [Introduction to Machine Learning and Splunk (Prof Bill Buchanan)](https://billatnapier.medium.com/introduction-to-machine-learning-and-splunk-1ef256add6b1)\n",
    "- [The Key Principles of Cyber Security for Connected Autonomous Vehicles](https://assets.publishing.service.gov.uk/government/uploads/system/uploads/attachment_data/file/661135/cyber-security-connected-automated-vehicles-key-principles.pdf)\n",
    "- [A Survey on Security Attacks and Defense Techniques for Connected and Autonomous Vehicles](https://arxiv.org/abs/2007.08041)\n",
    "- [Health to be on cyber-security's front line in 2021](https://www.bbc.co.uk/news/technology-55411830)\n",
    "- [Cybersecurity in healthcare: A narrative review of trends, threats and ways forward](https://www.sciencedirect.com/science/article/pii/S0378512218301658?casa_token=OvW__y7jq_4AAAAA:haGdYeEEo664ZN4XmMcSwBJY2RWjac3Ge22n0oP5PrxETA-1_b33_0B8eNQRARlA1KnmSKrSlsY)\n",
    "- [Securing the Industrial Internet of Things](https://www.nccoe.nist.gov/projects/use-cases/energy-sector/iiot)\n",
    "- [Four most hard to solve IIoT security issues](https://iiot-world.com/ics-security/cybersecurity/four-most-hard-to-solve-iiot-security-issues/)\n",
    "\n",
    "# Yet more resources\n",
    "\n",
    "- [Infosec Jupyterthon](https://infosecjupyterthon.com/introduction.html): A 2 day online workshop for all things Jupyter and how this can be used for InfoSec. With many contributors including speakers from Microsoft, this is a fantastic resource.\n",
    "- [MyBinder](https://mybinder.org/): Turns a github repo into an interactive notebook environment for code reproducability.\n",
    "- [GitHub](https://www.github.com): Online code hosting repositories - over 11 million Jupyter notebooks hosted on GitHub currently.\n",
    "- [Open Threat Research Forge](https://github.com/OTRF)\n",
    "- [Bloodhound Notebooks](https://github.com/OTRF/bloodhound-notebooks): Notebooks created to attack and secure Active Directory environments.\n",
    "- [Security Datasets](https://github.com/OTRF/Security-Datasets): The Security Datasets project is an open-source initiatve that contributes malicious and benign datasets, from different platforms, to the infosec community to expedite data analysis and threat research.\n",
    "- [ThreatHunter-Playbook](https://github.com/OTRF/ThreatHunter-Playbook)\n"
   ]
  },
  {
   "cell_type": "markdown",
   "metadata": {},
   "source": [
    "# Further Reading\n",
    "\n",
    "- [Peter Hall, Claude Heath, Lizzie Coles-Kemp, Critical visualization: a case for rethinking how we visualize risk and security, Journal of Cybersecurity, Volume 1, Issue 1, September 2015, Pages 93–108, https://doi.org/10.1093/cybsec/tyv004](https://academic.oup.com/cybersecurity/article/1/1/93/2366512)\n",
    "- [Daniel W. Woods and Rainer Bohme. Systematization of Knowledge: Quantifying Cyber Risk](https://informationsecurity.uibk.ac.at/pdfs/WB2020_sok_cyberrisk_snp.pdf)\n",
    "- [Aouedi, O., Piamrat, K., Hamma, S. et al. Network traffic analysis using machine learning: an unsupervised approach to understand and slice your network. Ann. Telecommun. (2021). https://doi.org/10.1007/s12243-021-00889-1](https://link.springer.com/article/10.1007/s12243-021-00889-1)\n",
    "- [M. A. Ayub, W. A. Johnson, D. A. Talbert and A. Siraj, \"Model Evasion Attack on Intrusion Detection Systems using Adversarial Machine Learning,\" 2020 54th Annual Conference on Information Sciences and Systems (CISS), 2020, pp. 1-6, doi: 10.1109/CISS48834.2020.1570617116.](https://ieeexplore.ieee.org/document/9086268)\n",
    "- [Canadian Research Institute for Cybersecurity Datasets](https://www.unb.ca/cic/datasets/ids-2017.html)\n",
    "- [Markus Ring, Sarah Wunderlich, Deniz Scheuring, Dieter Landes, Andreas Hotho. A survey of network-based intrusion detection data sets](https://www.sciencedirect.com/science/article/pii/S016740481930118X)"
   ]
  },
  {
   "cell_type": "code",
   "execution_count": null,
   "metadata": {},
   "outputs": [],
   "source": []
  }
 ],
 "metadata": {
  "kernelspec": {
   "display_name": "Python 3 (ipykernel)",
   "language": "python",
   "name": "python3"
  },
  "language_info": {
   "codemirror_mode": {
    "name": "ipython",
    "version": 3
   },
   "file_extension": ".py",
   "mimetype": "text/x-python",
   "name": "python",
   "nbconvert_exporter": "python",
   "pygments_lexer": "ipython3",
   "version": "3.9.13"
  },
  "widgets": {
   "application/vnd.jupyter.widget-state+json": {
    "state": {},
    "version_major": 2,
    "version_minor": 0
   }
  }
 },
 "nbformat": 4,
 "nbformat_minor": 4
}
