{
 "cells": [
  {
   "cell_type": "markdown",
   "metadata": {},
   "source": [
    "# Activity 1 - Python Primer"
   ]
  },
  {
   "cell_type": "code",
   "execution_count": 30,
   "metadata": {},
   "outputs": [],
   "source": [
    "# First let's import some key data attributes\n",
    "\n",
    "!pip install numpy pandas matplotlib seaborn",
    "import numpy as np\n",
    "import pandas as pd\n",
    "import matplotlib.pyplot as plt\n",
    "import seaborn as sns"
   ]
  },
  {
   "cell_type": "markdown",
   "metadata": {},
   "source": [
    "To begin - let's show a very quick example of generating some dataset and plotting this. Do not worry if you do not understand the commands being used - you will do soon. For now, this is just to show how quickly we can generate this using Python."
   ]
  },
  {
   "cell_type": "code",
   "execution_count": 28,
   "metadata": {},
   "outputs": [],
   "source": [
    "a = np.random.normal(1.0, 0.3, [1000,1000])\n",
    "b = np.random.normal(1.8, 0.2, [100,100])"
   ]
  },
  {
   "cell_type": "code",
   "execution_count": 29,
   "metadata": {},
   "outputs": [
    {
     "data": {
      "text/plain": [
       "<matplotlib.collections.PathCollection at 0x7fa094a77a10>"
      ]
     },
     "execution_count": 29,
     "metadata": {},
     "output_type": "execute_result"
    },
    {
     "data": {
      "image/png": "[encoded data removed]",
      "text/plain": [
       "<Figure size 432x288 with 1 Axes>"
      ]
     },
     "metadata": {
      "needs_background": "light"
     },
     "output_type": "display_data"
    }
   ],
   "source": [
    "plt.scatter(a[0], a[1])\n",
    "plt.scatter(b[0], b[1])"
   ]
  },
  {
   "cell_type": "markdown",
   "metadata": {},
   "source": [
    "# Basic Operations in Python"
   ]
  },
  {
   "cell_type": "code",
   "execution_count": 26,
   "metadata": {},
   "outputs": [],
   "source": [
    "number = 1\n",
    "text = 'hello_everyone'\n",
    "l = [1,2,3,4,5]\n",
    "d = {'name':'bob', 'value':100}"
   ]
  },
  {
   "cell_type": "markdown",
   "metadata": {},
   "source": [
    "Basic variables in Python include **numerical values** (integers, floats, doubles, etc.) and **string values** (text). Basic data structures include **lists** and **dictionaries**.\n",
    "\n",
    "- Lists are essentially like arrays. We can create a dynamic group of (mixed) variables. We can append and remove from this list, and we can access elements from the list.\n",
    "- Dictionaries are like objects. We can create name-value pairs to reference attributes that make up an object (e.g., properties of a car).\n",
    "- We can create lists of dictionaries, and we can have lists within dictionaries. We can also have a list of lists (nested lists), and we can have dictionaries as values in a dictionary."
   ]
  },
  {
   "cell_type": "markdown",
   "metadata": {},
   "source": [
    "## Let's walk through some Python examples\n",
    "\n",
    "First let's look at some basics of Python and get use to manipulating data using the built in variable types."
   ]
  },
  {
   "cell_type": "code",
   "execution_count": 31,
   "metadata": {},
   "outputs": [],
   "source": [
    "# First some simple variables\n",
    "\n",
    "an_integer = 12\n",
    "a_floating_point_number = 18.4732"
   ]
  },
  {
   "cell_type": "code",
   "execution_count": 32,
   "metadata": {},
   "outputs": [
    {
     "data": {
      "text/plain": [
       "30.4732"
      ]
     },
     "execution_count": 32,
     "metadata": {},
     "output_type": "execute_result"
    }
   ],
   "source": [
    "# We can do some simple maths on these variables and see the output\n",
    "\n",
    "an_integer + a_floating_point_number"
   ]
  },
  {
   "cell_type": "code",
   "execution_count": 33,
   "metadata": {},
   "outputs": [
    {
     "data": {
      "text/plain": [
       "221.67839999999998"
      ]
     },
     "execution_count": 33,
     "metadata": {},
     "output_type": "execute_result"
    }
   ],
   "source": [
    "# We can also write functions to do simple maths\n",
    "\n",
    "def multiply(number1, number2):\n",
    "    return number1 * number2\n",
    "\n",
    "multiply(an_integer, a_floating_point_number)"
   ]
  },
  {
   "cell_type": "code",
   "execution_count": 34,
   "metadata": {},
   "outputs": [
    {
     "name": "stdout",
     "output_type": "stream",
     "text": [
      "Hello there!\n"
     ]
    }
   ],
   "source": [
    "# We can also create text variables just as easily\n",
    "\n",
    "a_string = 'Hello there!'\n",
    "print (a_string)"
   ]
  },
  {
   "cell_type": "code",
   "execution_count": 35,
   "metadata": {},
   "outputs": [
    {
     "name": "stdout",
     "output_type": "stream",
     "text": [
      "Hello there! My name is Phil\n",
      "Hello there! My name is Dave\n"
     ]
    }
   ],
   "source": [
    "# We can do some simple manipulation of text\n",
    "\n",
    "my_name = 'Phil'\n",
    "message = a_string + ' My name is ' + my_name\n",
    "print (message)\n",
    "\n",
    "# Including spliting sentences to corrupt a message\n",
    "imposter_name = 'Dave'\n",
    "s_m = message.split(\" \")\n",
    "new_message = ' '.join(s_m[:-1]) + ' ' + imposter_name\n",
    "print (new_message)"
   ]
  },
  {
   "cell_type": "code",
   "execution_count": 36,
   "metadata": {},
   "outputs": [
    {
     "name": "stdout",
     "output_type": "stream",
     "text": [
      "['apple', 'banana', 'orange', 'lemon']\n",
      "['apple', 'banana']\n",
      "['apple', 'banana', 'orange']\n",
      "['apple', 'banana', 'orange', 'lemon', 'mango']\n",
      "['apple', 'orange', 'lemon', 'mango']\n"
     ]
    }
   ],
   "source": [
    "# We also have lists of data that can sort variables\n",
    "fruits = ['apple','banana','orange','lemon']\n",
    "print (fruits)\n",
    "# We can access sets of variables using indexes\n",
    "print (fruits[0:2])\n",
    "print (fruits[:-1])\n",
    "# We can append items to the list, and remove items from the list\n",
    "fruits.append('mango')\n",
    "print (fruits)\n",
    "fruits.remove('banana')\n",
    "print (fruits)"
   ]
  },
  {
   "cell_type": "code",
   "execution_count": 37,
   "metadata": {},
   "outputs": [
    {
     "name": "stdout",
     "output_type": "stream",
     "text": [
      "{'name': 'bob', 'age': 23, 'height': 185, 'email': 'bob@bobmail.com'}\n"
     ]
    }
   ],
   "source": [
    "# We can also create dictionary objects \n",
    "# This is helpful for storing related variables about an object\n",
    "\n",
    "person = {}\n",
    "person['name'] = 'bob'\n",
    "person['age'] = 23\n",
    "person['height'] = 185\n",
    "person['email'] = 'bob@bobmail.com'\n",
    "print (person)"
   ]
  },
  {
   "cell_type": "code",
   "execution_count": 38,
   "metadata": {},
   "outputs": [
    {
     "name": "stdout",
     "output_type": "stream",
     "text": [
      "[{'name': 'bob', 'age': 23, 'height': 177, 'email': 'bob@bobmail.com'}, {'name': 'john', 'age': 41, 'height': 185, 'email': 'john@johnmail.com'}, {'name': 'sophie', 'age': 31, 'height': 157, 'email': 'sophie@sophiemail.com'}, {'name': 'wendy', 'age': 19, 'height': 174, 'email': 'wendy@wendymail.com'}]\n"
     ]
    }
   ],
   "source": [
    "# Like earlier, we could use a function to create 'person' objects\n",
    "people = []\n",
    "\n",
    "def create_person(name, age, height, email):\n",
    "    global people\n",
    "    new_person = {'name':name,\n",
    "                 'age':age,\n",
    "                 'height':height,\n",
    "                 'email':email}\n",
    "    people.append(new_person)\n",
    "\n",
    "create_person('bob', 23, 177, 'bob@bobmail.com')\n",
    "create_person('john', 41, 185, 'john@johnmail.com')\n",
    "create_person('sophie', 31, 157, 'sophie@sophiemail.com')\n",
    "create_person('wendy', 19, 174, 'wendy@wendymail.com')\n",
    "\n",
    "\n",
    "# Here we store our person objects in our people list\n",
    "# to make a group of 'persons' - a.k.a. people!\n",
    "print (people)"
   ]
  },
  {
   "cell_type": "markdown",
   "metadata": {},
   "source": [
    "## Introducing data science libraries\n",
    "\n",
    "We have covered a lot very quickly here. You've now already used the main built in variables of Python, that allow you to store numerical and text data, and the data structures such as lists (which are essentially arrays), and dictionaries (which are essentially objects). Let's now explore this deeper by introducing some of the data science libraries."
   ]
  },
  {
   "cell_type": "code",
   "execution_count": 40,
   "metadata": {},
   "outputs": [],
   "source": [
    "# We can import libraries using the following\n",
    "import numpy as np\n",
    "import pandas as pd\n",
    "import matplotlib.pyplot as plt"
   ]
  },
  {
   "cell_type": "code",
   "execution_count": 41,
   "metadata": {},
   "outputs": [
    {
     "data": {
      "text/html": [
       "<div>\n",
       "<style scoped>\n",
       "    .dataframe tbody tr th:only-of-type {\n",
       "        vertical-align: middle;\n",
       "    }\n",
       "\n",
       "    .dataframe tbody tr th {\n",
       "        vertical-align: top;\n",
       "    }\n",
       "\n",
       "    .dataframe thead th {\n",
       "        text-align: right;\n",
       "    }\n",
       "</style>\n",
       "<table border=\"1\" class=\"dataframe\">\n",
       "  <thead>\n",
       "    <tr style=\"text-align: right;\">\n",
       "      <th></th>\n",
       "      <th>name</th>\n",
       "      <th>age</th>\n",
       "      <th>height</th>\n",
       "      <th>email</th>\n",
       "    </tr>\n",
       "  </thead>\n",
       "  <tbody>\n",
       "    <tr>\n",
       "      <th>0</th>\n",
       "      <td>bob</td>\n",
       "      <td>23</td>\n",
       "      <td>177</td>\n",
       "      <td>bob@bobmail.com</td>\n",
       "    </tr>\n",
       "    <tr>\n",
       "      <th>1</th>\n",
       "      <td>john</td>\n",
       "      <td>41</td>\n",
       "      <td>185</td>\n",
       "      <td>john@johnmail.com</td>\n",
       "    </tr>\n",
       "    <tr>\n",
       "      <th>2</th>\n",
       "      <td>sophie</td>\n",
       "      <td>31</td>\n",
       "      <td>157</td>\n",
       "      <td>sophie@sophiemail.com</td>\n",
       "    </tr>\n",
       "    <tr>\n",
       "      <th>3</th>\n",
       "      <td>wendy</td>\n",
       "      <td>19</td>\n",
       "      <td>174</td>\n",
       "      <td>wendy@wendymail.com</td>\n",
       "    </tr>\n",
       "  </tbody>\n",
       "</table>\n",
       "</div>"
      ],
      "text/plain": [
       "     name  age  height                  email\n",
       "0     bob   23     177        bob@bobmail.com\n",
       "1    john   41     185      john@johnmail.com\n",
       "2  sophie   31     157  sophie@sophiemail.com\n",
       "3   wendy   19     174    wendy@wendymail.com"
      ]
     },
     "execution_count": 41,
     "metadata": {},
     "output_type": "execute_result"
    }
   ],
   "source": [
    "# Our people dictionary is difficult for us to read clearly\n",
    "# Pandas DataFrames help manipulate tabular data like this very easily\n",
    "\n",
    "data = pd.DataFrame(people)\n",
    "data"
   ]
  },
  {
   "cell_type": "code",
   "execution_count": 42,
   "metadata": {},
   "outputs": [
    {
     "data": {
      "text/plain": [
       "0    23\n",
       "1    41\n",
       "2    31\n",
       "3    19\n",
       "Name: age, dtype: int64"
      ]
     },
     "execution_count": 42,
     "metadata": {},
     "output_type": "execute_result"
    }
   ],
   "source": [
    "# We can access individual columns of the data now\n",
    "data['age']"
   ]
  },
  {
   "cell_type": "code",
   "execution_count": 43,
   "metadata": {},
   "outputs": [
    {
     "data": {
      "text/html": [
       "<div>\n",
       "<style scoped>\n",
       "    .dataframe tbody tr th:only-of-type {\n",
       "        vertical-align: middle;\n",
       "    }\n",
       "\n",
       "    .dataframe tbody tr th {\n",
       "        vertical-align: top;\n",
       "    }\n",
       "\n",
       "    .dataframe thead th {\n",
       "        text-align: right;\n",
       "    }\n",
       "</style>\n",
       "<table border=\"1\" class=\"dataframe\">\n",
       "  <thead>\n",
       "    <tr style=\"text-align: right;\">\n",
       "      <th></th>\n",
       "      <th>name</th>\n",
       "      <th>age</th>\n",
       "      <th>height</th>\n",
       "      <th>email</th>\n",
       "    </tr>\n",
       "  </thead>\n",
       "  <tbody>\n",
       "    <tr>\n",
       "      <th>1</th>\n",
       "      <td>john</td>\n",
       "      <td>41</td>\n",
       "      <td>185</td>\n",
       "      <td>john@johnmail.com</td>\n",
       "    </tr>\n",
       "  </tbody>\n",
       "</table>\n",
       "</div>"
      ],
      "text/plain": [
       "   name  age  height              email\n",
       "1  john   41     185  john@johnmail.com"
      ]
     },
     "execution_count": 43,
     "metadata": {},
     "output_type": "execute_result"
    }
   ],
   "source": [
    "# Who is the tallest of the users? Let's find out\n",
    "data[data['height'] == np.max(data['height'])]"
   ]
  },
  {
   "cell_type": "code",
   "execution_count": 44,
   "metadata": {},
   "outputs": [
    {
     "data": {
      "text/html": [
       "<div>\n",
       "<style scoped>\n",
       "    .dataframe tbody tr th:only-of-type {\n",
       "        vertical-align: middle;\n",
       "    }\n",
       "\n",
       "    .dataframe tbody tr th {\n",
       "        vertical-align: top;\n",
       "    }\n",
       "\n",
       "    .dataframe thead th {\n",
       "        text-align: right;\n",
       "    }\n",
       "</style>\n",
       "<table border=\"1\" class=\"dataframe\">\n",
       "  <thead>\n",
       "    <tr style=\"text-align: right;\">\n",
       "      <th></th>\n",
       "      <th>name</th>\n",
       "      <th>age</th>\n",
       "      <th>height</th>\n",
       "      <th>email</th>\n",
       "    </tr>\n",
       "  </thead>\n",
       "  <tbody>\n",
       "    <tr>\n",
       "      <th>2</th>\n",
       "      <td>sophie</td>\n",
       "      <td>31</td>\n",
       "      <td>157</td>\n",
       "      <td>sophie@sophiemail.com</td>\n",
       "    </tr>\n",
       "  </tbody>\n",
       "</table>\n",
       "</div>"
      ],
      "text/plain": [
       "     name  age  height                  email\n",
       "2  sophie   31     157  sophie@sophiemail.com"
      ]
     },
     "execution_count": 44,
     "metadata": {},
     "output_type": "execute_result"
    }
   ],
   "source": [
    "# Who is the shortest of the users? Let's find out\n",
    "data[data['height'] == np.min(data['height'])]"
   ]
  },
  {
   "cell_type": "code",
   "execution_count": 45,
   "metadata": {},
   "outputs": [
    {
     "data": {
      "image/png": "[encoded data removed]",
      "text/plain": [
       "<Figure size 432x288 with 1 Axes>"
      ]
     },
     "metadata": {
      "needs_background": "light"
     },
     "output_type": "display_data"
    }
   ],
   "source": [
    "# What if we want to plot this data quickly?\n",
    "data.plot()\n",
    "plt.show()"
   ]
  },
  {
   "cell_type": "markdown",
   "metadata": {},
   "source": [
    "# What next?\n",
    "\n",
    "Spend some time researching into Pandas, Matplotlib, and Numpy - these are core to manipulating numerical and tabular data, and then being able to visualize the results. There are many great examples online of getting started with these libraries.\n",
    "E.g., (Free e-book 'A Whirlwind Tour of Python': http://www.oreilly.com/programming/free/a-whirlwind-tour-of-python.csp)"
   ]
  },
  {
   "cell_type": "code",
   "execution_count": null,
   "metadata": {},
   "outputs": [],
   "source": []
  }
 ],
 "metadata": {
  "kernelspec": {
   "display_name": "Python 3 (ipykernel)",
   "language": "python",
   "name": "python3"
  },
  "language_info": {
   "codemirror_mode": {
    "name": "ipython",
    "version": 3
   },
   "file_extension": ".py",
   "mimetype": "text/x-python",
   "name": "python",
   "nbconvert_exporter": "python",
   "pygments_lexer": "ipython3",
   "version": "3.9.7"
  }
 },
 "nbformat": 4,
 "nbformat_minor": 4
}
