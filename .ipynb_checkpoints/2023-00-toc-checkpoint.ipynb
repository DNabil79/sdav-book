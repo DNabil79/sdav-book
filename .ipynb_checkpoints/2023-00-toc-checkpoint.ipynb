{
 "cells": [
  {
   "cell_type": "markdown",
   "metadata": {},
   "source": [
    "# SECURITY DATA ANALYTICS AND VISUALISATION\n",
    "\n",
    "This is the companion textbook for the Security Data Analytics and Visualisation module, taught by Prof. Phil Legg at the University of the West of England (UWE Bristol), UK. This book was originally prepared in Autumn 2020, and was updated to Jupyter Books in Autumn 2021.\n",
    "\n",
    "The book has been revised for the 2023-24 academic term.\n",
    "\n",
    "Last updated: September 2023\n"
   ]
  },
  {
   "cell_type": "code",
   "execution_count": null,
   "metadata": {},
   "outputs": [],
   "source": []
  }
 ],
 "metadata": {
  "kernelspec": {
   "display_name": "Python 3 (ipykernel)",
   "language": "python",
   "name": "python3"
  },
  "language_info": {
   "codemirror_mode": {
    "name": "ipython",
    "version": 3
   },
   "file_extension": ".py",
   "mimetype": "text/x-python",
   "name": "python",
   "nbconvert_exporter": "python",
   "pygments_lexer": "ipython3",
   "version": "3.9.13"
  },
  "widgets": {
   "application/vnd.jupyter.widget-state+json": {
    "state": {},
    "version_major": 2,
    "version_minor": 0
   }
  }
 },
 "nbformat": 4,
 "nbformat_minor": 4
}
