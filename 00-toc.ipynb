{
 "cells": [
  {
   "cell_type": "markdown",
   "metadata": {},
   "source": [
    "# Security Data Analytics and Visualisation\n",
    "\n",
    "This is the companion textbook for the Security Data Analytics and Visualisation module, taught by Prof. Phil Legg at the University of the West of England (UWE Bristol), UK. This book was originally prepared in Autumn 2020, and was updated to Jupyter Books in Autumn 2021. The second edition of the book is currently in revision for the 2023-24 academic term.\n",
    "\n",
    "![](https://images.livemint.com/rf/Image-621x414/LiveMint/Period2/2018/12/20/Photos/Opinion/cybersecurity-istockphoto-kqv--621x414@LiveMint.jpg)\n",
    "\n",
    "## How to use this learning resource\n",
    "\n",
    "This book serves as the pre-session material for the module, where students are expected to engage with each chapter before the in-class discussion session. Each chapter can obviously be read, or alternatively, you can use narration tools to read the content aloud for you to listen to. Many web browsers have these tools built in now, such as the [Microsoft Edge Immersive Reader](https://support.microsoft.com/en-us/topic/use-immersive-reader-in-microsoft-edge-78a7a17d-52e1-47ee-b0ac-eff8539015e1). Audio recordings of each chapter are also available from the course web page. \n",
    "\n",
    "You are advised to listen and read each chapter more than once, to reinforce the concepts that are discussed in each chapter. Furthermore, each chapter consists of hyperlinks that will allow you to discover more - which you should follow and explore. Finally, each section includes further reading, including recommended academic papers, blog articles, or videos, that will help enrich your broader understanding. You are encouraged to navigate this as part of your self-study allocation, to get the most out of the in-class discussions each week."
    "## License\n",
    "\n",
    "<p xmlns:cc="http://creativecommons.org/ns#" >This work is licensed under <a href="http://creativecommons.org/licenses/by-nc-sa/4.0/?ref=chooser-v1" target="_blank" rel="license noopener noreferrer" style="display:inline-block;">CC BY-NC-SA 4.0<img style="height:22px!important;margin-left:3px;vertical-align:text-bottom;" src="https://mirrors.creativecommons.org/presskit/icons/cc.svg?ref=chooser-v1"><img style="height:22px!important;margin-left:3px;vertical-align:text-bottom;" src="https://mirrors.creativecommons.org/presskit/icons/by.svg?ref=chooser-v1"><img style="height:22px!important;margin-left:3px;vertical-align:text-bottom;" src="https://mirrors.creativecommons.org/presskit/icons/nc.svg?ref=chooser-v1"><img style="height:22px!important;margin-left:3px;vertical-align:text-bottom;" src="https://mirrors.creativecommons.org/presskit/icons/sa.svg?ref=chooser-v1"></a></p> \n",
   ]
  },
  {
   "cell_type": "code",
   "execution_count": null,
   "metadata": {},
   "outputs": [],
   "source": []
  }
 ],
 "metadata": {
  "kernelspec": {
   "display_name": "Python 3 (ipykernel)",
   "language": "python",
   "name": "python3"
  },
  "language_info": {
   "codemirror_mode": {
    "name": "ipython",
    "version": 3
   },
   "file_extension": ".py",
   "mimetype": "text/x-python",
   "name": "python",
   "nbconvert_exporter": "python",
   "pygments_lexer": "ipython3",
   "version": "3.9.13"
  },
  "widgets": {
   "application/vnd.jupyter.widget-state+json": {
    "state": {},
    "version_major": 2,
    "version_minor": 0
   }
  }
 },
 "nbformat": 4,
 "nbformat_minor": 4
}
